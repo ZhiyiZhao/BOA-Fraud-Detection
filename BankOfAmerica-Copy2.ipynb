{
 "cells": [
  {
   "cell_type": "markdown",
   "metadata": {},
   "source": [
    "**Data dictionary**"
   ]
  },
  {
   "cell_type": "markdown",
   "metadata": {},
   "source": [
    "<font color='blue'><b>- Features V1, V2, … V28 : principal components obtained with PCA due to confidentiality <br>\n",
    "<font color='blue'><b>- Time : contains the seconds elapsed between each transaction and the first transaction in the dataset<br> \n",
    "<font color='blue'><b>- Amount: transaction Amount <br> \n",
    "<font color='blue'><b>- Class: 1 in case of fraud and 0 otherwise"
   ]
  },
  {
   "cell_type": "markdown",
   "metadata": {},
   "source": [
    "**Importing basic libraries**"
   ]
  },
  {
   "cell_type": "code",
   "execution_count": 56,
   "metadata": {},
   "outputs": [],
   "source": [
    "import numpy as np\n",
    "import matplotlib.pyplot as plt\n",
    "import pandas as pd\n",
    "import seaborn as sns\n",
    "import warnings\n",
    "warnings.filterwarnings(\"ignore\")"
   ]
  },
  {
   "cell_type": "markdown",
   "metadata": {},
   "source": [
    "**Read data**"
   ]
  },
  {
   "cell_type": "code",
   "execution_count": 57,
   "metadata": {},
   "outputs": [],
   "source": [
    "df = pd.read_csv('BankOfAmerica.csv')"
   ]
  },
  {
   "cell_type": "markdown",
   "metadata": {},
   "source": [
    "### 1. Getting familiar with the data"
   ]
  },
  {
   "cell_type": "markdown",
   "metadata": {},
   "source": [
    "**Peak the data frame**"
   ]
  },
  {
   "cell_type": "code",
   "execution_count": 58,
   "metadata": {},
   "outputs": [
    {
     "data": {
      "text/html": [
       "<div>\n",
       "<style scoped>\n",
       "    .dataframe tbody tr th:only-of-type {\n",
       "        vertical-align: middle;\n",
       "    }\n",
       "\n",
       "    .dataframe tbody tr th {\n",
       "        vertical-align: top;\n",
       "    }\n",
       "\n",
       "    .dataframe thead th {\n",
       "        text-align: right;\n",
       "    }\n",
       "</style>\n",
       "<table border=\"1\" class=\"dataframe\">\n",
       "  <thead>\n",
       "    <tr style=\"text-align: right;\">\n",
       "      <th></th>\n",
       "      <th>Time</th>\n",
       "      <th>V1</th>\n",
       "      <th>V2</th>\n",
       "      <th>V3</th>\n",
       "      <th>V4</th>\n",
       "      <th>V5</th>\n",
       "      <th>V6</th>\n",
       "      <th>V7</th>\n",
       "      <th>V8</th>\n",
       "      <th>V9</th>\n",
       "      <th>...</th>\n",
       "      <th>V21</th>\n",
       "      <th>V22</th>\n",
       "      <th>V23</th>\n",
       "      <th>V24</th>\n",
       "      <th>V25</th>\n",
       "      <th>V26</th>\n",
       "      <th>V27</th>\n",
       "      <th>V28</th>\n",
       "      <th>Amount</th>\n",
       "      <th>Class</th>\n",
       "    </tr>\n",
       "  </thead>\n",
       "  <tbody>\n",
       "    <tr>\n",
       "      <th>0</th>\n",
       "      <td>0.0</td>\n",
       "      <td>-1.359807</td>\n",
       "      <td>-0.072781</td>\n",
       "      <td>2.536347</td>\n",
       "      <td>1.378155</td>\n",
       "      <td>-0.338321</td>\n",
       "      <td>0.462388</td>\n",
       "      <td>0.239599</td>\n",
       "      <td>0.098698</td>\n",
       "      <td>0.363787</td>\n",
       "      <td>...</td>\n",
       "      <td>-0.018307</td>\n",
       "      <td>0.277838</td>\n",
       "      <td>-0.110474</td>\n",
       "      <td>0.066928</td>\n",
       "      <td>0.128539</td>\n",
       "      <td>-0.189115</td>\n",
       "      <td>0.133558</td>\n",
       "      <td>-0.021053</td>\n",
       "      <td>149.62</td>\n",
       "      <td>0</td>\n",
       "    </tr>\n",
       "    <tr>\n",
       "      <th>1</th>\n",
       "      <td>0.0</td>\n",
       "      <td>1.191857</td>\n",
       "      <td>0.266151</td>\n",
       "      <td>0.166480</td>\n",
       "      <td>0.448154</td>\n",
       "      <td>0.060018</td>\n",
       "      <td>-0.082361</td>\n",
       "      <td>-0.078803</td>\n",
       "      <td>0.085102</td>\n",
       "      <td>-0.255425</td>\n",
       "      <td>...</td>\n",
       "      <td>-0.225775</td>\n",
       "      <td>-0.638672</td>\n",
       "      <td>0.101288</td>\n",
       "      <td>-0.339846</td>\n",
       "      <td>0.167170</td>\n",
       "      <td>0.125895</td>\n",
       "      <td>-0.008983</td>\n",
       "      <td>0.014724</td>\n",
       "      <td>2.69</td>\n",
       "      <td>0</td>\n",
       "    </tr>\n",
       "    <tr>\n",
       "      <th>2</th>\n",
       "      <td>1.0</td>\n",
       "      <td>-1.358354</td>\n",
       "      <td>-1.340163</td>\n",
       "      <td>1.773209</td>\n",
       "      <td>0.379780</td>\n",
       "      <td>-0.503198</td>\n",
       "      <td>1.800499</td>\n",
       "      <td>0.791461</td>\n",
       "      <td>0.247676</td>\n",
       "      <td>-1.514654</td>\n",
       "      <td>...</td>\n",
       "      <td>0.247998</td>\n",
       "      <td>0.771679</td>\n",
       "      <td>0.909412</td>\n",
       "      <td>-0.689281</td>\n",
       "      <td>-0.327642</td>\n",
       "      <td>-0.139097</td>\n",
       "      <td>-0.055353</td>\n",
       "      <td>-0.059752</td>\n",
       "      <td>378.66</td>\n",
       "      <td>0</td>\n",
       "    </tr>\n",
       "    <tr>\n",
       "      <th>3</th>\n",
       "      <td>1.0</td>\n",
       "      <td>-0.966272</td>\n",
       "      <td>-0.185226</td>\n",
       "      <td>1.792993</td>\n",
       "      <td>-0.863291</td>\n",
       "      <td>-0.010309</td>\n",
       "      <td>1.247203</td>\n",
       "      <td>0.237609</td>\n",
       "      <td>0.377436</td>\n",
       "      <td>-1.387024</td>\n",
       "      <td>...</td>\n",
       "      <td>-0.108300</td>\n",
       "      <td>0.005274</td>\n",
       "      <td>-0.190321</td>\n",
       "      <td>-1.175575</td>\n",
       "      <td>0.647376</td>\n",
       "      <td>-0.221929</td>\n",
       "      <td>0.062723</td>\n",
       "      <td>0.061458</td>\n",
       "      <td>123.50</td>\n",
       "      <td>0</td>\n",
       "    </tr>\n",
       "    <tr>\n",
       "      <th>4</th>\n",
       "      <td>2.0</td>\n",
       "      <td>-1.158233</td>\n",
       "      <td>0.877737</td>\n",
       "      <td>1.548718</td>\n",
       "      <td>0.403034</td>\n",
       "      <td>-0.407193</td>\n",
       "      <td>0.095921</td>\n",
       "      <td>0.592941</td>\n",
       "      <td>-0.270533</td>\n",
       "      <td>0.817739</td>\n",
       "      <td>...</td>\n",
       "      <td>-0.009431</td>\n",
       "      <td>0.798278</td>\n",
       "      <td>-0.137458</td>\n",
       "      <td>0.141267</td>\n",
       "      <td>-0.206010</td>\n",
       "      <td>0.502292</td>\n",
       "      <td>0.219422</td>\n",
       "      <td>0.215153</td>\n",
       "      <td>69.99</td>\n",
       "      <td>0</td>\n",
       "    </tr>\n",
       "  </tbody>\n",
       "</table>\n",
       "<p>5 rows × 31 columns</p>\n",
       "</div>"
      ],
      "text/plain": [
       "   Time        V1        V2        V3        V4        V5        V6        V7  \\\n",
       "0   0.0 -1.359807 -0.072781  2.536347  1.378155 -0.338321  0.462388  0.239599   \n",
       "1   0.0  1.191857  0.266151  0.166480  0.448154  0.060018 -0.082361 -0.078803   \n",
       "2   1.0 -1.358354 -1.340163  1.773209  0.379780 -0.503198  1.800499  0.791461   \n",
       "3   1.0 -0.966272 -0.185226  1.792993 -0.863291 -0.010309  1.247203  0.237609   \n",
       "4   2.0 -1.158233  0.877737  1.548718  0.403034 -0.407193  0.095921  0.592941   \n",
       "\n",
       "         V8        V9  ...       V21       V22       V23       V24       V25  \\\n",
       "0  0.098698  0.363787  ... -0.018307  0.277838 -0.110474  0.066928  0.128539   \n",
       "1  0.085102 -0.255425  ... -0.225775 -0.638672  0.101288 -0.339846  0.167170   \n",
       "2  0.247676 -1.514654  ...  0.247998  0.771679  0.909412 -0.689281 -0.327642   \n",
       "3  0.377436 -1.387024  ... -0.108300  0.005274 -0.190321 -1.175575  0.647376   \n",
       "4 -0.270533  0.817739  ... -0.009431  0.798278 -0.137458  0.141267 -0.206010   \n",
       "\n",
       "        V26       V27       V28  Amount  Class  \n",
       "0 -0.189115  0.133558 -0.021053  149.62      0  \n",
       "1  0.125895 -0.008983  0.014724    2.69      0  \n",
       "2 -0.139097 -0.055353 -0.059752  378.66      0  \n",
       "3 -0.221929  0.062723  0.061458  123.50      0  \n",
       "4  0.502292  0.219422  0.215153   69.99      0  \n",
       "\n",
       "[5 rows x 31 columns]"
      ]
     },
     "execution_count": 58,
     "metadata": {},
     "output_type": "execute_result"
    }
   ],
   "source": [
    "df.head()"
   ]
  },
  {
   "cell_type": "markdown",
   "metadata": {},
   "source": [
    "**Data frame info**"
   ]
  },
  {
   "cell_type": "code",
   "execution_count": 59,
   "metadata": {},
   "outputs": [
    {
     "name": "stdout",
     "output_type": "stream",
     "text": [
      "<class 'pandas.core.frame.DataFrame'>\n",
      "RangeIndex: 284807 entries, 0 to 284806\n",
      "Data columns (total 31 columns):\n",
      " #   Column  Non-Null Count   Dtype  \n",
      "---  ------  --------------   -----  \n",
      " 0   Time    284807 non-null  float64\n",
      " 1   V1      284807 non-null  float64\n",
      " 2   V2      284807 non-null  float64\n",
      " 3   V3      284807 non-null  float64\n",
      " 4   V4      284807 non-null  float64\n",
      " 5   V5      284807 non-null  float64\n",
      " 6   V6      284807 non-null  float64\n",
      " 7   V7      284807 non-null  float64\n",
      " 8   V8      284807 non-null  float64\n",
      " 9   V9      284807 non-null  float64\n",
      " 10  V10     284807 non-null  float64\n",
      " 11  V11     284807 non-null  float64\n",
      " 12  V12     284807 non-null  float64\n",
      " 13  V13     284807 non-null  float64\n",
      " 14  V14     284807 non-null  float64\n",
      " 15  V15     284807 non-null  float64\n",
      " 16  V16     284807 non-null  float64\n",
      " 17  V17     284807 non-null  float64\n",
      " 18  V18     284807 non-null  float64\n",
      " 19  V19     284807 non-null  float64\n",
      " 20  V20     284807 non-null  float64\n",
      " 21  V21     284807 non-null  float64\n",
      " 22  V22     284807 non-null  float64\n",
      " 23  V23     284807 non-null  float64\n",
      " 24  V24     284807 non-null  float64\n",
      " 25  V25     284807 non-null  float64\n",
      " 26  V26     284807 non-null  float64\n",
      " 27  V27     284807 non-null  float64\n",
      " 28  V28     284807 non-null  float64\n",
      " 29  Amount  284807 non-null  float64\n",
      " 30  Class   284807 non-null  int64  \n",
      "dtypes: float64(30), int64(1)\n",
      "memory usage: 67.4 MB\n"
     ]
    }
   ],
   "source": [
    "df.info()"
   ]
  },
  {
   "cell_type": "markdown",
   "metadata": {},
   "source": [
    "**Basic stats descriptive statistics (mean, median, min, max, standard deviation) for each field**"
   ]
  },
  {
   "cell_type": "code",
   "execution_count": 60,
   "metadata": {},
   "outputs": [
    {
     "data": {
      "text/html": [
       "<div>\n",
       "<style scoped>\n",
       "    .dataframe tbody tr th:only-of-type {\n",
       "        vertical-align: middle;\n",
       "    }\n",
       "\n",
       "    .dataframe tbody tr th {\n",
       "        vertical-align: top;\n",
       "    }\n",
       "\n",
       "    .dataframe thead th {\n",
       "        text-align: right;\n",
       "    }\n",
       "</style>\n",
       "<table border=\"1\" class=\"dataframe\">\n",
       "  <thead>\n",
       "    <tr style=\"text-align: right;\">\n",
       "      <th></th>\n",
       "      <th>Time</th>\n",
       "      <th>V1</th>\n",
       "      <th>V2</th>\n",
       "      <th>V3</th>\n",
       "      <th>V4</th>\n",
       "      <th>V5</th>\n",
       "      <th>V6</th>\n",
       "      <th>V7</th>\n",
       "      <th>V8</th>\n",
       "      <th>V9</th>\n",
       "      <th>...</th>\n",
       "      <th>V21</th>\n",
       "      <th>V22</th>\n",
       "      <th>V23</th>\n",
       "      <th>V24</th>\n",
       "      <th>V25</th>\n",
       "      <th>V26</th>\n",
       "      <th>V27</th>\n",
       "      <th>V28</th>\n",
       "      <th>Amount</th>\n",
       "      <th>Class</th>\n",
       "    </tr>\n",
       "  </thead>\n",
       "  <tbody>\n",
       "    <tr>\n",
       "      <th>count</th>\n",
       "      <td>284807.000000</td>\n",
       "      <td>2.848070e+05</td>\n",
       "      <td>2.848070e+05</td>\n",
       "      <td>2.848070e+05</td>\n",
       "      <td>2.848070e+05</td>\n",
       "      <td>2.848070e+05</td>\n",
       "      <td>2.848070e+05</td>\n",
       "      <td>2.848070e+05</td>\n",
       "      <td>2.848070e+05</td>\n",
       "      <td>2.848070e+05</td>\n",
       "      <td>...</td>\n",
       "      <td>2.848070e+05</td>\n",
       "      <td>2.848070e+05</td>\n",
       "      <td>2.848070e+05</td>\n",
       "      <td>2.848070e+05</td>\n",
       "      <td>2.848070e+05</td>\n",
       "      <td>2.848070e+05</td>\n",
       "      <td>2.848070e+05</td>\n",
       "      <td>2.848070e+05</td>\n",
       "      <td>284807.000000</td>\n",
       "      <td>284807.000000</td>\n",
       "    </tr>\n",
       "    <tr>\n",
       "      <th>mean</th>\n",
       "      <td>94813.859575</td>\n",
       "      <td>3.918649e-15</td>\n",
       "      <td>5.682686e-16</td>\n",
       "      <td>-8.761736e-15</td>\n",
       "      <td>2.811118e-15</td>\n",
       "      <td>-1.552103e-15</td>\n",
       "      <td>2.040130e-15</td>\n",
       "      <td>-1.698953e-15</td>\n",
       "      <td>-1.893285e-16</td>\n",
       "      <td>-3.147640e-15</td>\n",
       "      <td>...</td>\n",
       "      <td>1.473120e-16</td>\n",
       "      <td>8.042109e-16</td>\n",
       "      <td>5.282512e-16</td>\n",
       "      <td>4.456271e-15</td>\n",
       "      <td>1.426896e-15</td>\n",
       "      <td>1.701640e-15</td>\n",
       "      <td>-3.662252e-16</td>\n",
       "      <td>-1.217809e-16</td>\n",
       "      <td>88.349619</td>\n",
       "      <td>0.001727</td>\n",
       "    </tr>\n",
       "    <tr>\n",
       "      <th>std</th>\n",
       "      <td>47488.145955</td>\n",
       "      <td>1.958696e+00</td>\n",
       "      <td>1.651309e+00</td>\n",
       "      <td>1.516255e+00</td>\n",
       "      <td>1.415869e+00</td>\n",
       "      <td>1.380247e+00</td>\n",
       "      <td>1.332271e+00</td>\n",
       "      <td>1.237094e+00</td>\n",
       "      <td>1.194353e+00</td>\n",
       "      <td>1.098632e+00</td>\n",
       "      <td>...</td>\n",
       "      <td>7.345240e-01</td>\n",
       "      <td>7.257016e-01</td>\n",
       "      <td>6.244603e-01</td>\n",
       "      <td>6.056471e-01</td>\n",
       "      <td>5.212781e-01</td>\n",
       "      <td>4.822270e-01</td>\n",
       "      <td>4.036325e-01</td>\n",
       "      <td>3.300833e-01</td>\n",
       "      <td>250.120109</td>\n",
       "      <td>0.041527</td>\n",
       "    </tr>\n",
       "    <tr>\n",
       "      <th>min</th>\n",
       "      <td>0.000000</td>\n",
       "      <td>-5.640751e+01</td>\n",
       "      <td>-7.271573e+01</td>\n",
       "      <td>-4.832559e+01</td>\n",
       "      <td>-5.683171e+00</td>\n",
       "      <td>-1.137433e+02</td>\n",
       "      <td>-2.616051e+01</td>\n",
       "      <td>-4.355724e+01</td>\n",
       "      <td>-7.321672e+01</td>\n",
       "      <td>-1.343407e+01</td>\n",
       "      <td>...</td>\n",
       "      <td>-3.483038e+01</td>\n",
       "      <td>-1.093314e+01</td>\n",
       "      <td>-4.480774e+01</td>\n",
       "      <td>-2.836627e+00</td>\n",
       "      <td>-1.029540e+01</td>\n",
       "      <td>-2.604551e+00</td>\n",
       "      <td>-2.256568e+01</td>\n",
       "      <td>-1.543008e+01</td>\n",
       "      <td>0.000000</td>\n",
       "      <td>0.000000</td>\n",
       "    </tr>\n",
       "    <tr>\n",
       "      <th>25%</th>\n",
       "      <td>54201.500000</td>\n",
       "      <td>-9.203734e-01</td>\n",
       "      <td>-5.985499e-01</td>\n",
       "      <td>-8.903648e-01</td>\n",
       "      <td>-8.486401e-01</td>\n",
       "      <td>-6.915971e-01</td>\n",
       "      <td>-7.682956e-01</td>\n",
       "      <td>-5.540759e-01</td>\n",
       "      <td>-2.086297e-01</td>\n",
       "      <td>-6.430976e-01</td>\n",
       "      <td>...</td>\n",
       "      <td>-2.283949e-01</td>\n",
       "      <td>-5.423504e-01</td>\n",
       "      <td>-1.618463e-01</td>\n",
       "      <td>-3.545861e-01</td>\n",
       "      <td>-3.171451e-01</td>\n",
       "      <td>-3.269839e-01</td>\n",
       "      <td>-7.083953e-02</td>\n",
       "      <td>-5.295979e-02</td>\n",
       "      <td>5.600000</td>\n",
       "      <td>0.000000</td>\n",
       "    </tr>\n",
       "    <tr>\n",
       "      <th>50%</th>\n",
       "      <td>84692.000000</td>\n",
       "      <td>1.810880e-02</td>\n",
       "      <td>6.548556e-02</td>\n",
       "      <td>1.798463e-01</td>\n",
       "      <td>-1.984653e-02</td>\n",
       "      <td>-5.433583e-02</td>\n",
       "      <td>-2.741871e-01</td>\n",
       "      <td>4.010308e-02</td>\n",
       "      <td>2.235804e-02</td>\n",
       "      <td>-5.142873e-02</td>\n",
       "      <td>...</td>\n",
       "      <td>-2.945017e-02</td>\n",
       "      <td>6.781943e-03</td>\n",
       "      <td>-1.119293e-02</td>\n",
       "      <td>4.097606e-02</td>\n",
       "      <td>1.659350e-02</td>\n",
       "      <td>-5.213911e-02</td>\n",
       "      <td>1.342146e-03</td>\n",
       "      <td>1.124383e-02</td>\n",
       "      <td>22.000000</td>\n",
       "      <td>0.000000</td>\n",
       "    </tr>\n",
       "    <tr>\n",
       "      <th>75%</th>\n",
       "      <td>139320.500000</td>\n",
       "      <td>1.315642e+00</td>\n",
       "      <td>8.037239e-01</td>\n",
       "      <td>1.027196e+00</td>\n",
       "      <td>7.433413e-01</td>\n",
       "      <td>6.119264e-01</td>\n",
       "      <td>3.985649e-01</td>\n",
       "      <td>5.704361e-01</td>\n",
       "      <td>3.273459e-01</td>\n",
       "      <td>5.971390e-01</td>\n",
       "      <td>...</td>\n",
       "      <td>1.863772e-01</td>\n",
       "      <td>5.285536e-01</td>\n",
       "      <td>1.476421e-01</td>\n",
       "      <td>4.395266e-01</td>\n",
       "      <td>3.507156e-01</td>\n",
       "      <td>2.409522e-01</td>\n",
       "      <td>9.104512e-02</td>\n",
       "      <td>7.827995e-02</td>\n",
       "      <td>77.165000</td>\n",
       "      <td>0.000000</td>\n",
       "    </tr>\n",
       "    <tr>\n",
       "      <th>max</th>\n",
       "      <td>172792.000000</td>\n",
       "      <td>2.454930e+00</td>\n",
       "      <td>2.205773e+01</td>\n",
       "      <td>9.382558e+00</td>\n",
       "      <td>1.687534e+01</td>\n",
       "      <td>3.480167e+01</td>\n",
       "      <td>7.330163e+01</td>\n",
       "      <td>1.205895e+02</td>\n",
       "      <td>2.000721e+01</td>\n",
       "      <td>1.559499e+01</td>\n",
       "      <td>...</td>\n",
       "      <td>2.720284e+01</td>\n",
       "      <td>1.050309e+01</td>\n",
       "      <td>2.252841e+01</td>\n",
       "      <td>4.584549e+00</td>\n",
       "      <td>7.519589e+00</td>\n",
       "      <td>3.517346e+00</td>\n",
       "      <td>3.161220e+01</td>\n",
       "      <td>3.384781e+01</td>\n",
       "      <td>25691.160000</td>\n",
       "      <td>1.000000</td>\n",
       "    </tr>\n",
       "  </tbody>\n",
       "</table>\n",
       "<p>8 rows × 31 columns</p>\n",
       "</div>"
      ],
      "text/plain": [
       "                Time            V1            V2            V3            V4  \\\n",
       "count  284807.000000  2.848070e+05  2.848070e+05  2.848070e+05  2.848070e+05   \n",
       "mean    94813.859575  3.918649e-15  5.682686e-16 -8.761736e-15  2.811118e-15   \n",
       "std     47488.145955  1.958696e+00  1.651309e+00  1.516255e+00  1.415869e+00   \n",
       "min         0.000000 -5.640751e+01 -7.271573e+01 -4.832559e+01 -5.683171e+00   \n",
       "25%     54201.500000 -9.203734e-01 -5.985499e-01 -8.903648e-01 -8.486401e-01   \n",
       "50%     84692.000000  1.810880e-02  6.548556e-02  1.798463e-01 -1.984653e-02   \n",
       "75%    139320.500000  1.315642e+00  8.037239e-01  1.027196e+00  7.433413e-01   \n",
       "max    172792.000000  2.454930e+00  2.205773e+01  9.382558e+00  1.687534e+01   \n",
       "\n",
       "                 V5            V6            V7            V8            V9  \\\n",
       "count  2.848070e+05  2.848070e+05  2.848070e+05  2.848070e+05  2.848070e+05   \n",
       "mean  -1.552103e-15  2.040130e-15 -1.698953e-15 -1.893285e-16 -3.147640e-15   \n",
       "std    1.380247e+00  1.332271e+00  1.237094e+00  1.194353e+00  1.098632e+00   \n",
       "min   -1.137433e+02 -2.616051e+01 -4.355724e+01 -7.321672e+01 -1.343407e+01   \n",
       "25%   -6.915971e-01 -7.682956e-01 -5.540759e-01 -2.086297e-01 -6.430976e-01   \n",
       "50%   -5.433583e-02 -2.741871e-01  4.010308e-02  2.235804e-02 -5.142873e-02   \n",
       "75%    6.119264e-01  3.985649e-01  5.704361e-01  3.273459e-01  5.971390e-01   \n",
       "max    3.480167e+01  7.330163e+01  1.205895e+02  2.000721e+01  1.559499e+01   \n",
       "\n",
       "       ...           V21           V22           V23           V24  \\\n",
       "count  ...  2.848070e+05  2.848070e+05  2.848070e+05  2.848070e+05   \n",
       "mean   ...  1.473120e-16  8.042109e-16  5.282512e-16  4.456271e-15   \n",
       "std    ...  7.345240e-01  7.257016e-01  6.244603e-01  6.056471e-01   \n",
       "min    ... -3.483038e+01 -1.093314e+01 -4.480774e+01 -2.836627e+00   \n",
       "25%    ... -2.283949e-01 -5.423504e-01 -1.618463e-01 -3.545861e-01   \n",
       "50%    ... -2.945017e-02  6.781943e-03 -1.119293e-02  4.097606e-02   \n",
       "75%    ...  1.863772e-01  5.285536e-01  1.476421e-01  4.395266e-01   \n",
       "max    ...  2.720284e+01  1.050309e+01  2.252841e+01  4.584549e+00   \n",
       "\n",
       "                V25           V26           V27           V28         Amount  \\\n",
       "count  2.848070e+05  2.848070e+05  2.848070e+05  2.848070e+05  284807.000000   \n",
       "mean   1.426896e-15  1.701640e-15 -3.662252e-16 -1.217809e-16      88.349619   \n",
       "std    5.212781e-01  4.822270e-01  4.036325e-01  3.300833e-01     250.120109   \n",
       "min   -1.029540e+01 -2.604551e+00 -2.256568e+01 -1.543008e+01       0.000000   \n",
       "25%   -3.171451e-01 -3.269839e-01 -7.083953e-02 -5.295979e-02       5.600000   \n",
       "50%    1.659350e-02 -5.213911e-02  1.342146e-03  1.124383e-02      22.000000   \n",
       "75%    3.507156e-01  2.409522e-01  9.104512e-02  7.827995e-02      77.165000   \n",
       "max    7.519589e+00  3.517346e+00  3.161220e+01  3.384781e+01   25691.160000   \n",
       "\n",
       "               Class  \n",
       "count  284807.000000  \n",
       "mean        0.001727  \n",
       "std         0.041527  \n",
       "min         0.000000  \n",
       "25%         0.000000  \n",
       "50%         0.000000  \n",
       "75%         0.000000  \n",
       "max         1.000000  \n",
       "\n",
       "[8 rows x 31 columns]"
      ]
     },
     "execution_count": 60,
     "metadata": {},
     "output_type": "execute_result"
    }
   ],
   "source": [
    "df.describe()"
   ]
  },
  {
   "cell_type": "markdown",
   "metadata": {},
   "source": [
    "**Check for missing values**"
   ]
  },
  {
   "cell_type": "code",
   "execution_count": 61,
   "metadata": {},
   "outputs": [
    {
     "data": {
      "text/plain": [
       "<AxesSubplot:>"
      ]
     },
     "execution_count": 61,
     "metadata": {},
     "output_type": "execute_result"
    },
    {
     "data": {
      "image/png": "[encoded data removed]",
      "text/plain": [
       "<Figure size 864x432 with 2 Axes>"
      ]
     },
     "metadata": {
      "needs_background": "light"
     },
     "output_type": "display_data"
    }
   ],
   "source": [
    "plt.figure(figsize=(12,6))\n",
    "sns.heatmap(df.isnull())"
   ]
  },
  {
   "cell_type": "markdown",
   "metadata": {},
   "source": [
    "<font color='red'><b> What is your initial take on the dataset and it's completeness?"
   ]
  },
  {
   "cell_type": "markdown",
   "metadata": {},
   "source": [
    "Data looks complete with no missing values"
   ]
  },
  {
   "cell_type": "markdown",
   "metadata": {},
   "source": [
    "### 2. Exploratory Data Analysis"
   ]
  },
  {
   "cell_type": "markdown",
   "metadata": {},
   "source": [
    "**Check out how many credit card frauds there were**"
   ]
  },
  {
   "cell_type": "code",
   "execution_count": 62,
   "metadata": {},
   "outputs": [
    {
     "data": {
      "text/plain": [
       "Text(0, 0.5, 'Count')"
      ]
     },
     "execution_count": 62,
     "metadata": {},
     "output_type": "execute_result"
    },
    {
     "data": {
      "image/png": "[encoded data removed]",
      "text/plain": [
       "<Figure size 432x432 with 1 Axes>"
      ]
     },
     "metadata": {
      "needs_background": "light"
     },
     "output_type": "display_data"
    }
   ],
   "source": [
    "plt.figure(figsize=(6,6))\n",
    "sns.countplot(df['Class'])\n",
    "plt.xlabel('Class')\n",
    "plt.ylabel('Count')"
   ]
  },
  {
   "cell_type": "markdown",
   "metadata": {},
   "source": [
    "<font color='red'><b> Do the classes look balanced? Could this be a class imbalance problem? Do your research on class imbalance in supervised learning, it's implications to modeling and methods to tackle"
   ]
  },
  {
   "cell_type": "markdown",
   "metadata": {},
   "source": [
    "There is a class imbalance in the classes"
   ]
  },
  {
   "cell_type": "markdown",
   "metadata": {},
   "source": [
    "<font color='red'><b>What other EDA's can you think of doing? Try 1 or 2 below."
   ]
  },
  {
   "cell_type": "markdown",
   "metadata": {},
   "source": [
    "Heatmap for correlation between predictors and box plot/histogram for variable distribution"
   ]
  },
  {
   "cell_type": "markdown",
   "metadata": {},
   "source": [
    "**Let's look at the imbalance in more detail**"
   ]
  },
  {
   "cell_type": "code",
   "execution_count": 63,
   "metadata": {},
   "outputs": [
    {
     "data": {
      "image/png": "[encoded data removed]",
      "text/plain": [
       "<Figure size 1008x432 with 1 Axes>"
      ]
     },
     "metadata": {
      "needs_background": "light"
     },
     "output_type": "display_data"
    }
   ],
   "source": [
    "def plot_data(X, y):\n",
    "    plt.scatter(X[y == 0, 0], X[y == 0, 1], label=\"Not Fraud\", alpha=0.5, linewidth=0.15)\n",
    "    plt.scatter(X[y == 1, 0], X[y == 1, 1], label=\"Fraud\", alpha=0.5, linewidth=0.15, c='y')\n",
    "    plt.legend()\n",
    "    return plt.show()\n",
    "\n",
    "from sklearn.model_selection import train_test_split\n",
    "y = df.iloc[:,-1].values\n",
    "X=df.iloc[:, :-1].values\n",
    "\n",
    "plt.figure(figsize=(14,6))\n",
    "plot_data(X, y)"
   ]
  },
  {
   "cell_type": "markdown",
   "metadata": {},
   "source": [
    "**There is clear imbalance. Let's look at SMOTE which is a popular method to tackle class imbalances**"
   ]
  },
  {
   "cell_type": "markdown",
   "metadata": {},
   "source": [
    "**More information of SMOTE can be found here: https://imbalanced-learn.org/stable/references/generated/imblearn.over_sampling.SMOTE.html**"
   ]
  },
  {
   "cell_type": "code",
   "execution_count": 64,
   "metadata": {},
   "outputs": [
    {
     "data": {
      "image/png": "[encoded data removed]",
      "text/plain": [
       "<Figure size 1008x432 with 1 Axes>"
      ]
     },
     "metadata": {
      "needs_background": "light"
     },
     "output_type": "display_data"
    }
   ],
   "source": [
    "from imblearn.over_sampling import SMOTE\n",
    "\n",
    "method = SMOTE(random_state=42, sampling_strategy=0.6)\n",
    "\n",
    "X_resampled, y_resampled = method.fit_resample(X, y)\n",
    "\n",
    "plt.figure(figsize=(14,6))\n",
    "plot_data(X_resampled, y_resampled)"
   ]
  },
  {
   "cell_type": "markdown",
   "metadata": {},
   "source": [
    "**We applied an upsampling technique to balance minory class in our data. Almost doubled the size of our data especially minority class by generating generic samples**"
   ]
  },
  {
   "cell_type": "markdown",
   "metadata": {},
   "source": [
    "### 3. Data Modeling"
   ]
  },
  {
   "cell_type": "markdown",
   "metadata": {},
   "source": [
    "**Convential Rule based system**"
   ]
  },
  {
   "cell_type": "code",
   "execution_count": 65,
   "metadata": {},
   "outputs": [],
   "source": [
    "df.groupby('Class').mean()\n",
    "df['flag_as_fraud'] = np.where(np.logical_and(df['V1'] < -3, df['V3'] < -5), 1, 0)"
   ]
  },
  {
   "cell_type": "markdown",
   "metadata": {},
   "source": [
    "**Here we have run a groupby command on our labels and obtain the mean for each feature and then implemented a rule for stating which cases are flagged as fraud**"
   ]
  },
  {
   "cell_type": "code",
   "execution_count": 66,
   "metadata": {},
   "outputs": [
    {
     "name": "stdout",
     "output_type": "stream",
     "text": [
      "Results of flagged fraud cases versus the actual fraud cases:\n",
      "\n",
      "Flagged Fraud       0     1\n",
      "Actual Fraud               \n",
      "0              283089  1226\n",
      "1                 322   170\n"
     ]
    }
   ],
   "source": [
    "print(\"Results of flagged fraud cases versus the actual fraud cases:\\n\")\n",
    "print(pd.crosstab(df.Class, df.flag_as_fraud, rownames=['Actual Fraud'], colnames=['Flagged Fraud']))"
   ]
  },
  {
   "cell_type": "markdown",
   "metadata": {},
   "source": [
    "#### precision & recall"
   ]
  },
  {
   "cell_type": "markdown",
   "metadata": {},
   "source": [
    "**Example using the rule based system**"
   ]
  },
  {
   "cell_type": "code",
   "execution_count": 67,
   "metadata": {},
   "outputs": [
    {
     "data": {
      "text/html": [
       "<div>\n",
       "<style scoped>\n",
       "    .dataframe tbody tr th:only-of-type {\n",
       "        vertical-align: middle;\n",
       "    }\n",
       "\n",
       "    .dataframe tbody tr th {\n",
       "        vertical-align: top;\n",
       "    }\n",
       "\n",
       "    .dataframe thead th {\n",
       "        text-align: right;\n",
       "    }\n",
       "</style>\n",
       "<table border=\"1\" class=\"dataframe\">\n",
       "  <thead>\n",
       "    <tr style=\"text-align: right;\">\n",
       "      <th></th>\n",
       "      <th>Time</th>\n",
       "      <th>V1</th>\n",
       "      <th>V2</th>\n",
       "      <th>V3</th>\n",
       "      <th>V4</th>\n",
       "      <th>V5</th>\n",
       "      <th>V6</th>\n",
       "      <th>V7</th>\n",
       "      <th>V8</th>\n",
       "      <th>V9</th>\n",
       "      <th>...</th>\n",
       "      <th>V21</th>\n",
       "      <th>V22</th>\n",
       "      <th>V23</th>\n",
       "      <th>V24</th>\n",
       "      <th>V25</th>\n",
       "      <th>V26</th>\n",
       "      <th>V27</th>\n",
       "      <th>V28</th>\n",
       "      <th>Amount</th>\n",
       "      <th>flag_as_fraud</th>\n",
       "    </tr>\n",
       "    <tr>\n",
       "      <th>Class</th>\n",
       "      <th></th>\n",
       "      <th></th>\n",
       "      <th></th>\n",
       "      <th></th>\n",
       "      <th></th>\n",
       "      <th></th>\n",
       "      <th></th>\n",
       "      <th></th>\n",
       "      <th></th>\n",
       "      <th></th>\n",
       "      <th></th>\n",
       "      <th></th>\n",
       "      <th></th>\n",
       "      <th></th>\n",
       "      <th></th>\n",
       "      <th></th>\n",
       "      <th></th>\n",
       "      <th></th>\n",
       "      <th></th>\n",
       "      <th></th>\n",
       "      <th></th>\n",
       "    </tr>\n",
       "  </thead>\n",
       "  <tbody>\n",
       "    <tr>\n",
       "      <th>0</th>\n",
       "      <td>94838.202258</td>\n",
       "      <td>0.008258</td>\n",
       "      <td>-0.006271</td>\n",
       "      <td>0.012171</td>\n",
       "      <td>-0.007860</td>\n",
       "      <td>0.005453</td>\n",
       "      <td>0.002419</td>\n",
       "      <td>0.009637</td>\n",
       "      <td>-0.000987</td>\n",
       "      <td>0.004467</td>\n",
       "      <td>...</td>\n",
       "      <td>-0.001235</td>\n",
       "      <td>-0.000024</td>\n",
       "      <td>0.000070</td>\n",
       "      <td>0.000182</td>\n",
       "      <td>-0.000072</td>\n",
       "      <td>-0.000089</td>\n",
       "      <td>-0.000295</td>\n",
       "      <td>-0.000131</td>\n",
       "      <td>88.291022</td>\n",
       "      <td>0.004312</td>\n",
       "    </tr>\n",
       "    <tr>\n",
       "      <th>1</th>\n",
       "      <td>80746.806911</td>\n",
       "      <td>-4.771948</td>\n",
       "      <td>3.623778</td>\n",
       "      <td>-7.033281</td>\n",
       "      <td>4.542029</td>\n",
       "      <td>-3.151225</td>\n",
       "      <td>-1.397737</td>\n",
       "      <td>-5.568731</td>\n",
       "      <td>0.570636</td>\n",
       "      <td>-2.581123</td>\n",
       "      <td>...</td>\n",
       "      <td>0.713588</td>\n",
       "      <td>0.014049</td>\n",
       "      <td>-0.040308</td>\n",
       "      <td>-0.105130</td>\n",
       "      <td>0.041449</td>\n",
       "      <td>0.051648</td>\n",
       "      <td>0.170575</td>\n",
       "      <td>0.075667</td>\n",
       "      <td>122.211321</td>\n",
       "      <td>0.345528</td>\n",
       "    </tr>\n",
       "  </tbody>\n",
       "</table>\n",
       "<p>2 rows × 31 columns</p>\n",
       "</div>"
      ],
      "text/plain": [
       "               Time        V1        V2        V3        V4        V5  \\\n",
       "Class                                                                   \n",
       "0      94838.202258  0.008258 -0.006271  0.012171 -0.007860  0.005453   \n",
       "1      80746.806911 -4.771948  3.623778 -7.033281  4.542029 -3.151225   \n",
       "\n",
       "             V6        V7        V8        V9  ...       V21       V22  \\\n",
       "Class                                          ...                       \n",
       "0      0.002419  0.009637 -0.000987  0.004467  ... -0.001235 -0.000024   \n",
       "1     -1.397737 -5.568731  0.570636 -2.581123  ...  0.713588  0.014049   \n",
       "\n",
       "            V23       V24       V25       V26       V27       V28      Amount  \\\n",
       "Class                                                                           \n",
       "0      0.000070  0.000182 -0.000072 -0.000089 -0.000295 -0.000131   88.291022   \n",
       "1     -0.040308 -0.105130  0.041449  0.051648  0.170575  0.075667  122.211321   \n",
       "\n",
       "       flag_as_fraud  \n",
       "Class                 \n",
       "0           0.004312  \n",
       "1           0.345528  \n",
       "\n",
       "[2 rows x 31 columns]"
      ]
     },
     "execution_count": 67,
     "metadata": {},
     "output_type": "execute_result"
    }
   ],
   "source": [
    "a=df.groupby('Class').mean()\n",
    "a"
   ]
  },
  {
   "cell_type": "markdown",
   "metadata": {},
   "source": [
    "<font color='red'><b>Do you think a rule-based system for catching credit card fraud is a good choice? What are the pros and cons?"
   ]
  },
  {
   "cell_type": "markdown",
   "metadata": {},
   "source": [
    "No, with rule based system we cannot get good precision and recall\n",
    "Precison = 35%, recall =12%, F1 = 18%"
   ]
  },
  {
   "cell_type": "markdown",
   "metadata": {},
   "source": [
    "**Let's look at some more sophisticated machine learning solutions**"
   ]
  },
  {
   "cell_type": "code",
   "execution_count": 68,
   "metadata": {
    "scrolled": true
   },
   "outputs": [
    {
     "data": {
      "text/html": [
       "<div>\n",
       "<style scoped>\n",
       "    .dataframe tbody tr th:only-of-type {\n",
       "        vertical-align: middle;\n",
       "    }\n",
       "\n",
       "    .dataframe tbody tr th {\n",
       "        vertical-align: top;\n",
       "    }\n",
       "\n",
       "    .dataframe thead th {\n",
       "        text-align: right;\n",
       "    }\n",
       "</style>\n",
       "<table border=\"1\" class=\"dataframe\">\n",
       "  <thead>\n",
       "    <tr style=\"text-align: right;\">\n",
       "      <th></th>\n",
       "      <th>Time</th>\n",
       "      <th>V1</th>\n",
       "      <th>V2</th>\n",
       "      <th>V3</th>\n",
       "      <th>V4</th>\n",
       "      <th>V5</th>\n",
       "      <th>V6</th>\n",
       "      <th>V7</th>\n",
       "      <th>V8</th>\n",
       "      <th>V9</th>\n",
       "      <th>...</th>\n",
       "      <th>V20</th>\n",
       "      <th>V21</th>\n",
       "      <th>V22</th>\n",
       "      <th>V23</th>\n",
       "      <th>V24</th>\n",
       "      <th>V25</th>\n",
       "      <th>V26</th>\n",
       "      <th>V27</th>\n",
       "      <th>V28</th>\n",
       "      <th>Amount</th>\n",
       "    </tr>\n",
       "  </thead>\n",
       "  <tbody>\n",
       "    <tr>\n",
       "      <th>0</th>\n",
       "      <td>0.0</td>\n",
       "      <td>-1.359807</td>\n",
       "      <td>-0.072781</td>\n",
       "      <td>2.536347</td>\n",
       "      <td>1.378155</td>\n",
       "      <td>-0.338321</td>\n",
       "      <td>0.462388</td>\n",
       "      <td>0.239599</td>\n",
       "      <td>0.098698</td>\n",
       "      <td>0.363787</td>\n",
       "      <td>...</td>\n",
       "      <td>0.251412</td>\n",
       "      <td>-0.018307</td>\n",
       "      <td>0.277838</td>\n",
       "      <td>-0.110474</td>\n",
       "      <td>0.066928</td>\n",
       "      <td>0.128539</td>\n",
       "      <td>-0.189115</td>\n",
       "      <td>0.133558</td>\n",
       "      <td>-0.021053</td>\n",
       "      <td>149.62</td>\n",
       "    </tr>\n",
       "    <tr>\n",
       "      <th>1</th>\n",
       "      <td>0.0</td>\n",
       "      <td>1.191857</td>\n",
       "      <td>0.266151</td>\n",
       "      <td>0.166480</td>\n",
       "      <td>0.448154</td>\n",
       "      <td>0.060018</td>\n",
       "      <td>-0.082361</td>\n",
       "      <td>-0.078803</td>\n",
       "      <td>0.085102</td>\n",
       "      <td>-0.255425</td>\n",
       "      <td>...</td>\n",
       "      <td>-0.069083</td>\n",
       "      <td>-0.225775</td>\n",
       "      <td>-0.638672</td>\n",
       "      <td>0.101288</td>\n",
       "      <td>-0.339846</td>\n",
       "      <td>0.167170</td>\n",
       "      <td>0.125895</td>\n",
       "      <td>-0.008983</td>\n",
       "      <td>0.014724</td>\n",
       "      <td>2.69</td>\n",
       "    </tr>\n",
       "    <tr>\n",
       "      <th>2</th>\n",
       "      <td>1.0</td>\n",
       "      <td>-1.358354</td>\n",
       "      <td>-1.340163</td>\n",
       "      <td>1.773209</td>\n",
       "      <td>0.379780</td>\n",
       "      <td>-0.503198</td>\n",
       "      <td>1.800499</td>\n",
       "      <td>0.791461</td>\n",
       "      <td>0.247676</td>\n",
       "      <td>-1.514654</td>\n",
       "      <td>...</td>\n",
       "      <td>0.524980</td>\n",
       "      <td>0.247998</td>\n",
       "      <td>0.771679</td>\n",
       "      <td>0.909412</td>\n",
       "      <td>-0.689281</td>\n",
       "      <td>-0.327642</td>\n",
       "      <td>-0.139097</td>\n",
       "      <td>-0.055353</td>\n",
       "      <td>-0.059752</td>\n",
       "      <td>378.66</td>\n",
       "    </tr>\n",
       "    <tr>\n",
       "      <th>3</th>\n",
       "      <td>1.0</td>\n",
       "      <td>-0.966272</td>\n",
       "      <td>-0.185226</td>\n",
       "      <td>1.792993</td>\n",
       "      <td>-0.863291</td>\n",
       "      <td>-0.010309</td>\n",
       "      <td>1.247203</td>\n",
       "      <td>0.237609</td>\n",
       "      <td>0.377436</td>\n",
       "      <td>-1.387024</td>\n",
       "      <td>...</td>\n",
       "      <td>-0.208038</td>\n",
       "      <td>-0.108300</td>\n",
       "      <td>0.005274</td>\n",
       "      <td>-0.190321</td>\n",
       "      <td>-1.175575</td>\n",
       "      <td>0.647376</td>\n",
       "      <td>-0.221929</td>\n",
       "      <td>0.062723</td>\n",
       "      <td>0.061458</td>\n",
       "      <td>123.50</td>\n",
       "    </tr>\n",
       "    <tr>\n",
       "      <th>4</th>\n",
       "      <td>2.0</td>\n",
       "      <td>-1.158233</td>\n",
       "      <td>0.877737</td>\n",
       "      <td>1.548718</td>\n",
       "      <td>0.403034</td>\n",
       "      <td>-0.407193</td>\n",
       "      <td>0.095921</td>\n",
       "      <td>0.592941</td>\n",
       "      <td>-0.270533</td>\n",
       "      <td>0.817739</td>\n",
       "      <td>...</td>\n",
       "      <td>0.408542</td>\n",
       "      <td>-0.009431</td>\n",
       "      <td>0.798278</td>\n",
       "      <td>-0.137458</td>\n",
       "      <td>0.141267</td>\n",
       "      <td>-0.206010</td>\n",
       "      <td>0.502292</td>\n",
       "      <td>0.219422</td>\n",
       "      <td>0.215153</td>\n",
       "      <td>69.99</td>\n",
       "    </tr>\n",
       "    <tr>\n",
       "      <th>...</th>\n",
       "      <td>...</td>\n",
       "      <td>...</td>\n",
       "      <td>...</td>\n",
       "      <td>...</td>\n",
       "      <td>...</td>\n",
       "      <td>...</td>\n",
       "      <td>...</td>\n",
       "      <td>...</td>\n",
       "      <td>...</td>\n",
       "      <td>...</td>\n",
       "      <td>...</td>\n",
       "      <td>...</td>\n",
       "      <td>...</td>\n",
       "      <td>...</td>\n",
       "      <td>...</td>\n",
       "      <td>...</td>\n",
       "      <td>...</td>\n",
       "      <td>...</td>\n",
       "      <td>...</td>\n",
       "      <td>...</td>\n",
       "      <td>...</td>\n",
       "    </tr>\n",
       "    <tr>\n",
       "      <th>284802</th>\n",
       "      <td>172786.0</td>\n",
       "      <td>-11.881118</td>\n",
       "      <td>10.071785</td>\n",
       "      <td>-9.834783</td>\n",
       "      <td>-2.066656</td>\n",
       "      <td>-5.364473</td>\n",
       "      <td>-2.606837</td>\n",
       "      <td>-4.918215</td>\n",
       "      <td>7.305334</td>\n",
       "      <td>1.914428</td>\n",
       "      <td>...</td>\n",
       "      <td>1.475829</td>\n",
       "      <td>0.213454</td>\n",
       "      <td>0.111864</td>\n",
       "      <td>1.014480</td>\n",
       "      <td>-0.509348</td>\n",
       "      <td>1.436807</td>\n",
       "      <td>0.250034</td>\n",
       "      <td>0.943651</td>\n",
       "      <td>0.823731</td>\n",
       "      <td>0.77</td>\n",
       "    </tr>\n",
       "    <tr>\n",
       "      <th>284803</th>\n",
       "      <td>172787.0</td>\n",
       "      <td>-0.732789</td>\n",
       "      <td>-0.055080</td>\n",
       "      <td>2.035030</td>\n",
       "      <td>-0.738589</td>\n",
       "      <td>0.868229</td>\n",
       "      <td>1.058415</td>\n",
       "      <td>0.024330</td>\n",
       "      <td>0.294869</td>\n",
       "      <td>0.584800</td>\n",
       "      <td>...</td>\n",
       "      <td>0.059616</td>\n",
       "      <td>0.214205</td>\n",
       "      <td>0.924384</td>\n",
       "      <td>0.012463</td>\n",
       "      <td>-1.016226</td>\n",
       "      <td>-0.606624</td>\n",
       "      <td>-0.395255</td>\n",
       "      <td>0.068472</td>\n",
       "      <td>-0.053527</td>\n",
       "      <td>24.79</td>\n",
       "    </tr>\n",
       "    <tr>\n",
       "      <th>284804</th>\n",
       "      <td>172788.0</td>\n",
       "      <td>1.919565</td>\n",
       "      <td>-0.301254</td>\n",
       "      <td>-3.249640</td>\n",
       "      <td>-0.557828</td>\n",
       "      <td>2.630515</td>\n",
       "      <td>3.031260</td>\n",
       "      <td>-0.296827</td>\n",
       "      <td>0.708417</td>\n",
       "      <td>0.432454</td>\n",
       "      <td>...</td>\n",
       "      <td>0.001396</td>\n",
       "      <td>0.232045</td>\n",
       "      <td>0.578229</td>\n",
       "      <td>-0.037501</td>\n",
       "      <td>0.640134</td>\n",
       "      <td>0.265745</td>\n",
       "      <td>-0.087371</td>\n",
       "      <td>0.004455</td>\n",
       "      <td>-0.026561</td>\n",
       "      <td>67.88</td>\n",
       "    </tr>\n",
       "    <tr>\n",
       "      <th>284805</th>\n",
       "      <td>172788.0</td>\n",
       "      <td>-0.240440</td>\n",
       "      <td>0.530483</td>\n",
       "      <td>0.702510</td>\n",
       "      <td>0.689799</td>\n",
       "      <td>-0.377961</td>\n",
       "      <td>0.623708</td>\n",
       "      <td>-0.686180</td>\n",
       "      <td>0.679145</td>\n",
       "      <td>0.392087</td>\n",
       "      <td>...</td>\n",
       "      <td>0.127434</td>\n",
       "      <td>0.265245</td>\n",
       "      <td>0.800049</td>\n",
       "      <td>-0.163298</td>\n",
       "      <td>0.123205</td>\n",
       "      <td>-0.569159</td>\n",
       "      <td>0.546668</td>\n",
       "      <td>0.108821</td>\n",
       "      <td>0.104533</td>\n",
       "      <td>10.00</td>\n",
       "    </tr>\n",
       "    <tr>\n",
       "      <th>284806</th>\n",
       "      <td>172792.0</td>\n",
       "      <td>-0.533413</td>\n",
       "      <td>-0.189733</td>\n",
       "      <td>0.703337</td>\n",
       "      <td>-0.506271</td>\n",
       "      <td>-0.012546</td>\n",
       "      <td>-0.649617</td>\n",
       "      <td>1.577006</td>\n",
       "      <td>-0.414650</td>\n",
       "      <td>0.486180</td>\n",
       "      <td>...</td>\n",
       "      <td>0.382948</td>\n",
       "      <td>0.261057</td>\n",
       "      <td>0.643078</td>\n",
       "      <td>0.376777</td>\n",
       "      <td>0.008797</td>\n",
       "      <td>-0.473649</td>\n",
       "      <td>-0.818267</td>\n",
       "      <td>-0.002415</td>\n",
       "      <td>0.013649</td>\n",
       "      <td>217.00</td>\n",
       "    </tr>\n",
       "  </tbody>\n",
       "</table>\n",
       "<p>284807 rows × 30 columns</p>\n",
       "</div>"
      ],
      "text/plain": [
       "            Time         V1         V2        V3        V4        V5  \\\n",
       "0            0.0  -1.359807  -0.072781  2.536347  1.378155 -0.338321   \n",
       "1            0.0   1.191857   0.266151  0.166480  0.448154  0.060018   \n",
       "2            1.0  -1.358354  -1.340163  1.773209  0.379780 -0.503198   \n",
       "3            1.0  -0.966272  -0.185226  1.792993 -0.863291 -0.010309   \n",
       "4            2.0  -1.158233   0.877737  1.548718  0.403034 -0.407193   \n",
       "...          ...        ...        ...       ...       ...       ...   \n",
       "284802  172786.0 -11.881118  10.071785 -9.834783 -2.066656 -5.364473   \n",
       "284803  172787.0  -0.732789  -0.055080  2.035030 -0.738589  0.868229   \n",
       "284804  172788.0   1.919565  -0.301254 -3.249640 -0.557828  2.630515   \n",
       "284805  172788.0  -0.240440   0.530483  0.702510  0.689799 -0.377961   \n",
       "284806  172792.0  -0.533413  -0.189733  0.703337 -0.506271 -0.012546   \n",
       "\n",
       "              V6        V7        V8        V9  ...       V20       V21  \\\n",
       "0       0.462388  0.239599  0.098698  0.363787  ...  0.251412 -0.018307   \n",
       "1      -0.082361 -0.078803  0.085102 -0.255425  ... -0.069083 -0.225775   \n",
       "2       1.800499  0.791461  0.247676 -1.514654  ...  0.524980  0.247998   \n",
       "3       1.247203  0.237609  0.377436 -1.387024  ... -0.208038 -0.108300   \n",
       "4       0.095921  0.592941 -0.270533  0.817739  ...  0.408542 -0.009431   \n",
       "...          ...       ...       ...       ...  ...       ...       ...   \n",
       "284802 -2.606837 -4.918215  7.305334  1.914428  ...  1.475829  0.213454   \n",
       "284803  1.058415  0.024330  0.294869  0.584800  ...  0.059616  0.214205   \n",
       "284804  3.031260 -0.296827  0.708417  0.432454  ...  0.001396  0.232045   \n",
       "284805  0.623708 -0.686180  0.679145  0.392087  ...  0.127434  0.265245   \n",
       "284806 -0.649617  1.577006 -0.414650  0.486180  ...  0.382948  0.261057   \n",
       "\n",
       "             V22       V23       V24       V25       V26       V27       V28  \\\n",
       "0       0.277838 -0.110474  0.066928  0.128539 -0.189115  0.133558 -0.021053   \n",
       "1      -0.638672  0.101288 -0.339846  0.167170  0.125895 -0.008983  0.014724   \n",
       "2       0.771679  0.909412 -0.689281 -0.327642 -0.139097 -0.055353 -0.059752   \n",
       "3       0.005274 -0.190321 -1.175575  0.647376 -0.221929  0.062723  0.061458   \n",
       "4       0.798278 -0.137458  0.141267 -0.206010  0.502292  0.219422  0.215153   \n",
       "...          ...       ...       ...       ...       ...       ...       ...   \n",
       "284802  0.111864  1.014480 -0.509348  1.436807  0.250034  0.943651  0.823731   \n",
       "284803  0.924384  0.012463 -1.016226 -0.606624 -0.395255  0.068472 -0.053527   \n",
       "284804  0.578229 -0.037501  0.640134  0.265745 -0.087371  0.004455 -0.026561   \n",
       "284805  0.800049 -0.163298  0.123205 -0.569159  0.546668  0.108821  0.104533   \n",
       "284806  0.643078  0.376777  0.008797 -0.473649 -0.818267 -0.002415  0.013649   \n",
       "\n",
       "        Amount  \n",
       "0       149.62  \n",
       "1         2.69  \n",
       "2       378.66  \n",
       "3       123.50  \n",
       "4        69.99  \n",
       "...        ...  \n",
       "284802    0.77  \n",
       "284803   24.79  \n",
       "284804   67.88  \n",
       "284805   10.00  \n",
       "284806  217.00  \n",
       "\n",
       "[284807 rows x 30 columns]"
      ]
     },
     "execution_count": 68,
     "metadata": {},
     "output_type": "execute_result"
    }
   ],
   "source": [
    "df.iloc[:, :-2]"
   ]
  },
  {
   "cell_type": "code",
   "execution_count": 69,
   "metadata": {},
   "outputs": [],
   "source": [
    "y = df.iloc[:,-2]\n",
    "X = df.iloc[:, 1:-2]\n",
    "# Create the training and testing sets\n",
    "X_train, X_test, y_train, y_test = train_test_split(X, y, test_size=0.3, random_state=0, stratify= y)"
   ]
  },
  {
   "cell_type": "code",
   "execution_count": 70,
   "metadata": {},
   "outputs": [],
   "source": [
    "from sklearn.linear_model import LogisticRegression\n",
    "from sklearn.model_selection import train_test_split\n",
    "from sklearn import metrics\n",
    "from sklearn.metrics import classification_report, confusion_matrix, roc_auc_score\n",
    "\n",
    "# Fit a logistic regression model to our data\n",
    "model = LogisticRegression()\n",
    "model.fit(X_train, y_train)\n",
    "\n",
    "# Obtain model predictions\n",
    "predicted = model.predict(X_test)\n",
    "probs = model.predict_proba(X_test)"
   ]
  },
  {
   "cell_type": "code",
   "execution_count": 71,
   "metadata": {},
   "outputs": [
    {
     "name": "stdout",
     "output_type": "stream",
     "text": [
      "\n",
      "Classification Report:\n",
      "               precision    recall  f1-score   support\n",
      "\n",
      "           0       1.00      1.00      1.00     85295\n",
      "           1       0.88      0.62      0.73       148\n",
      "\n",
      "    accuracy                           1.00     85443\n",
      "   macro avg       0.94      0.81      0.86     85443\n",
      "weighted avg       1.00      1.00      1.00     85443\n",
      "\n",
      "\n",
      "Confusion matrix:\n",
      " [[85282    13]\n",
      " [   56    92]]\n"
     ]
    }
   ],
   "source": [
    "conf_mat = metrics.confusion_matrix(y_true=y_test, y_pred=predicted)\n",
    "print('\\nClassification Report:\\n', classification_report(y_test, predicted))\n",
    "print('\\nConfusion matrix:\\n', conf_mat)"
   ]
  },
  {
   "cell_type": "code",
   "execution_count": 72,
   "metadata": {},
   "outputs": [
    {
     "name": "stdout",
     "output_type": "stream",
     "text": [
      "\n",
      "Confusion Matrix in depth analysis: \n",
      "\n"
     ]
    },
    {
     "data": {
      "text/plain": [
       "<AxesSubplot:>"
      ]
     },
     "execution_count": 72,
     "metadata": {},
     "output_type": "execute_result"
    },
    {
     "data": {
      "image/png": "[encoded data removed]",
      "text/plain": [
       "<Figure size 576x432 with 2 Axes>"
      ]
     },
     "metadata": {
      "needs_background": "light"
     },
     "output_type": "display_data"
    }
   ],
   "source": [
    "group_names = [\"True Neg\", \"False Pos\", \"False Neg\", \"True Pos\"]\n",
    "group_counts = ['{0:0.0f}'.format(value) for value in\n",
    "                conf_mat.flatten()]\n",
    "group_percentages = ['{0:.2%}'.format(value) for value in\n",
    "                     conf_mat.flatten()/np.sum(conf_mat)]\n",
    "labels = [f'{v1}\\n{v2}\\n{v3}' for v1, v2, v3 in\n",
    "          zip(group_names,group_counts,group_percentages)]\n",
    "plt.figure(figsize=(8,6))\n",
    "labels = np.asarray(labels).reshape(2,2)\n",
    "print(\"\\nConfusion Matrix in depth analysis: \\n\")\n",
    "sns.heatmap(conf_mat, annot=labels, fmt='', cmap='Blues')"
   ]
  },
  {
   "cell_type": "markdown",
   "metadata": {},
   "source": [
    "**Machine learning with imporved balance using SMOTE**"
   ]
  },
  {
   "cell_type": "code",
   "execution_count": 73,
   "metadata": {},
   "outputs": [],
   "source": [
    "from imblearn.pipeline import Pipeline \n",
    "from imblearn.over_sampling import SMOTE\n",
    "\n",
    "resampling = SMOTE(random_state=42, sampling_strategy=0.6)\n",
    "model = LogisticRegression()\n",
    "\n",
    "pipeline = Pipeline([('SMOTE', resampling), ('Logistic Regression', model)])"
   ]
  },
  {
   "cell_type": "code",
   "execution_count": 74,
   "metadata": {},
   "outputs": [],
   "source": [
    "# X_train, X_test, y_train, y_test = train_test_split(X, y, test_size=0.3, random_state=0)\n",
    "pipeline.fit(X_train, y_train) \n",
    "predicted_lr_smote = model.predict(X_test)"
   ]
  },
  {
   "cell_type": "code",
   "execution_count": 75,
   "metadata": {},
   "outputs": [
    {
     "name": "stdout",
     "output_type": "stream",
     "text": [
      "\n",
      "Classification Report:\n",
      "               precision    recall  f1-score   support\n",
      "\n",
      "           0       1.00      0.99      1.00     85295\n",
      "           1       0.14      0.86      0.23       148\n",
      "\n",
      "    accuracy                           0.99     85443\n",
      "   macro avg       0.57      0.93      0.61     85443\n",
      "weighted avg       1.00      0.99      0.99     85443\n",
      "\n",
      "\n",
      "Confusion matrix:\n",
      " [[84475   820]\n",
      " [   20   128]]\n"
     ]
    }
   ],
   "source": [
    "conf_mat_lr_smote = metrics.confusion_matrix(y_true=y_test, y_pred=predicted_lr_smote)\n",
    "print('\\nClassification Report:\\n', classification_report(y_test, predicted_lr_smote))\n",
    "print('\\nConfusion matrix:\\n', conf_mat_lr_smote)"
   ]
  },
  {
   "cell_type": "code",
   "execution_count": 76,
   "metadata": {
    "scrolled": false
   },
   "outputs": [
    {
     "name": "stdout",
     "output_type": "stream",
     "text": [
      "\n",
      "Confusion Matrix in depth analysis for oversampled data: \n",
      "\n"
     ]
    },
    {
     "data": {
      "text/plain": [
       "<AxesSubplot:>"
      ]
     },
     "execution_count": 76,
     "metadata": {},
     "output_type": "execute_result"
    },
    {
     "data": {
      "image/png": "[encoded data removed]",
      "text/plain": [
       "<Figure size 576x432 with 2 Axes>"
      ]
     },
     "metadata": {
      "needs_background": "light"
     },
     "output_type": "display_data"
    }
   ],
   "source": [
    "group_names = [\"True Neg\", \"False Pos\", \"False Neg\", \"True Pos\"]\n",
    "group_counts = ['{0:0.0f}'.format(value) for value in\n",
    "                conf_mat_lr_smote.flatten()]\n",
    "group_percentages = ['{0:.2%}'.format(value) for value in\n",
    "                     conf_mat_lr_smote.flatten()/np.sum(conf_mat_lr_smote)]\n",
    "labels = [f'{v1}\\n{v2}\\n{v3}' for v1, v2, v3 in\n",
    "          zip(group_names,group_counts,group_percentages)]\n",
    "plt.figure(figsize=(8,6))\n",
    "labels = np.asarray(labels).reshape(2,2)\n",
    "print(\"\\nConfusion Matrix in depth analysis for oversampled data: \\n\")\n",
    "sns.heatmap(conf_mat_lr_smote, annot=labels, fmt='', cmap='Blues')"
   ]
  },
  {
   "cell_type": "markdown",
   "metadata": {},
   "source": [
    "<font color='red'><b>Compare the Confusion Matrices for the model with SMOTE and model without SMOTE to determine which model will be a better fit for this business problem"
   ]
  },
  {
   "cell_type": "markdown",
   "metadata": {},
   "source": [
    "non smote has better results"
   ]
  },
  {
   "cell_type": "markdown",
   "metadata": {},
   "source": [
    "<font color='red'><b>Once you finanlize if SMOTE or non-SMOTE model is better for your business case requirements, try 2 other models of your choice on the strategy and evaluate them on 2 metrics of your choice that we haven't used so far"
   ]
  },
  {
   "cell_type": "markdown",
   "metadata": {},
   "source": [
    "<font color='red'><b>Pick your best performing model and explain it using success metrics <br>"
   ]
  },
  {
   "cell_type": "markdown",
   "metadata": {},
   "source": [
    "<font color='green'><b>Following are theoretical questions:"
   ]
  },
  {
   "cell_type": "markdown",
   "metadata": {},
   "source": [
    "<font color='red'><b>For your business case which is more important - precision or recall? Why? <br>"
   ]
  },
  {
   "cell_type": "markdown",
   "metadata": {},
   "source": [
    "Both precision and recall are important. Precision because we want to keep the false positive rate low and recall because we want to capture as many frauds as possible and keep the false negative rate low - so we will go with F1 score."
   ]
  },
  {
   "cell_type": "markdown",
   "metadata": {},
   "source": [
    "<font color='red'><b>For your business case which is more important - accuracy or generalization? Why?"
   ]
  },
  {
   "cell_type": "markdown",
   "metadata": {},
   "source": [
    "Accuracy because the cost of false positive is higher."
   ]
  },
  {
   "cell_type": "markdown",
   "metadata": {},
   "source": [
    "<font color='red'><b>Can you tie accuracies to business value (financial value)?"
   ]
  },
  {
   "cell_type": "markdown",
   "metadata": {},
   "source": [
    "Yes - refer the slides"
   ]
  },
  {
   "cell_type": "markdown",
   "metadata": {},
   "source": [
    "<font color='red'><b>Are these accuracies good enough and give the business value or the ROI they estimated? If not, what else will you do to improve accuracies to get higher business value?"
   ]
  },
  {
   "cell_type": "markdown",
   "metadata": {},
   "source": [
    "Yes, refer to slides"
   ]
  },
  {
   "cell_type": "markdown",
   "metadata": {},
   "source": [
    "<font color='red'><b>What other data set can you use for this project?"
   ]
  },
  {
   "cell_type": "markdown",
   "metadata": {},
   "source": [
    "Customer information,Historical fraud report data, protocols,external data"
   ]
  },
  {
   "cell_type": "markdown",
   "metadata": {},
   "source": [
    "<font color='red'><b>What other pre processing or processing can be done to imporove the model?"
   ]
  },
  {
   "cell_type": "markdown",
   "metadata": {},
   "source": [
    "Normalization , remove outliers and add more predictors"
   ]
  },
  {
   "cell_type": "markdown",
   "metadata": {},
   "source": [
    "<font color='red'><b>What other advanced algorithms would you want to try?"
   ]
  },
  {
   "cell_type": "markdown",
   "metadata": {},
   "source": [
    "Tree based algorithms and deep learning\n"
   ]
  },
  {
   "cell_type": "markdown",
   "metadata": {},
   "source": [
    "### LightGBM"
   ]
  },
  {
   "cell_type": "code",
   "execution_count": 23,
   "metadata": {},
   "outputs": [
    {
     "data": {
      "text/html": [
       "<div>\n",
       "<style scoped>\n",
       "    .dataframe tbody tr th:only-of-type {\n",
       "        vertical-align: middle;\n",
       "    }\n",
       "\n",
       "    .dataframe tbody tr th {\n",
       "        vertical-align: top;\n",
       "    }\n",
       "\n",
       "    .dataframe thead th {\n",
       "        text-align: right;\n",
       "    }\n",
       "</style>\n",
       "<table border=\"1\" class=\"dataframe\">\n",
       "  <thead>\n",
       "    <tr style=\"text-align: right;\">\n",
       "      <th></th>\n",
       "      <th>V1</th>\n",
       "      <th>V2</th>\n",
       "      <th>V3</th>\n",
       "      <th>V4</th>\n",
       "      <th>V5</th>\n",
       "      <th>V6</th>\n",
       "      <th>V7</th>\n",
       "      <th>V8</th>\n",
       "      <th>V9</th>\n",
       "      <th>V10</th>\n",
       "      <th>...</th>\n",
       "      <th>V20</th>\n",
       "      <th>V21</th>\n",
       "      <th>V22</th>\n",
       "      <th>V23</th>\n",
       "      <th>V24</th>\n",
       "      <th>V25</th>\n",
       "      <th>V26</th>\n",
       "      <th>V27</th>\n",
       "      <th>V28</th>\n",
       "      <th>Amount</th>\n",
       "    </tr>\n",
       "  </thead>\n",
       "  <tbody>\n",
       "    <tr>\n",
       "      <th>211605</th>\n",
       "      <td>-8.367621</td>\n",
       "      <td>7.402969</td>\n",
       "      <td>-5.114191</td>\n",
       "      <td>-2.966792</td>\n",
       "      <td>-0.985904</td>\n",
       "      <td>-1.660018</td>\n",
       "      <td>0.397816</td>\n",
       "      <td>1.008250</td>\n",
       "      <td>5.290976</td>\n",
       "      <td>9.315735</td>\n",
       "      <td>...</td>\n",
       "      <td>3.589299</td>\n",
       "      <td>-0.557927</td>\n",
       "      <td>0.349087</td>\n",
       "      <td>0.301734</td>\n",
       "      <td>0.662330</td>\n",
       "      <td>1.145939</td>\n",
       "      <td>-0.012273</td>\n",
       "      <td>1.513736</td>\n",
       "      <td>0.669504</td>\n",
       "      <td>0.69</td>\n",
       "    </tr>\n",
       "    <tr>\n",
       "      <th>231628</th>\n",
       "      <td>-1.290662</td>\n",
       "      <td>0.764452</td>\n",
       "      <td>-0.169233</td>\n",
       "      <td>-1.688528</td>\n",
       "      <td>1.984718</td>\n",
       "      <td>-0.717210</td>\n",
       "      <td>1.667635</td>\n",
       "      <td>-0.228295</td>\n",
       "      <td>-0.959071</td>\n",
       "      <td>-0.679429</td>\n",
       "      <td>...</td>\n",
       "      <td>0.057620</td>\n",
       "      <td>0.138615</td>\n",
       "      <td>0.390374</td>\n",
       "      <td>-0.678774</td>\n",
       "      <td>0.292254</td>\n",
       "      <td>1.425865</td>\n",
       "      <td>0.265341</td>\n",
       "      <td>0.051405</td>\n",
       "      <td>0.103879</td>\n",
       "      <td>55.47</td>\n",
       "    </tr>\n",
       "    <tr>\n",
       "      <th>110643</th>\n",
       "      <td>-0.606860</td>\n",
       "      <td>0.233923</td>\n",
       "      <td>2.633361</td>\n",
       "      <td>-0.155762</td>\n",
       "      <td>-0.328850</td>\n",
       "      <td>-0.070593</td>\n",
       "      <td>0.173023</td>\n",
       "      <td>0.113394</td>\n",
       "      <td>0.680147</td>\n",
       "      <td>-0.686651</td>\n",
       "      <td>...</td>\n",
       "      <td>-0.129287</td>\n",
       "      <td>0.007393</td>\n",
       "      <td>0.265045</td>\n",
       "      <td>-0.040615</td>\n",
       "      <td>0.406088</td>\n",
       "      <td>-0.498823</td>\n",
       "      <td>0.121851</td>\n",
       "      <td>-0.046840</td>\n",
       "      <td>-0.087259</td>\n",
       "      <td>11.50</td>\n",
       "    </tr>\n",
       "    <tr>\n",
       "      <th>11478</th>\n",
       "      <td>1.374168</td>\n",
       "      <td>-0.330389</td>\n",
       "      <td>0.812971</td>\n",
       "      <td>-0.183112</td>\n",
       "      <td>-1.074771</td>\n",
       "      <td>-0.933788</td>\n",
       "      <td>-0.544238</td>\n",
       "      <td>-0.348237</td>\n",
       "      <td>0.614925</td>\n",
       "      <td>0.080408</td>\n",
       "      <td>...</td>\n",
       "      <td>0.078163</td>\n",
       "      <td>-0.134742</td>\n",
       "      <td>0.016793</td>\n",
       "      <td>0.002610</td>\n",
       "      <td>0.714527</td>\n",
       "      <td>0.536175</td>\n",
       "      <td>-0.307487</td>\n",
       "      <td>-0.003555</td>\n",
       "      <td>0.013024</td>\n",
       "      <td>10.00</td>\n",
       "    </tr>\n",
       "    <tr>\n",
       "      <th>243724</th>\n",
       "      <td>-2.146505</td>\n",
       "      <td>-7.603113</td>\n",
       "      <td>-4.928224</td>\n",
       "      <td>1.449173</td>\n",
       "      <td>-2.083871</td>\n",
       "      <td>-0.984759</td>\n",
       "      <td>3.629816</td>\n",
       "      <td>-1.302973</td>\n",
       "      <td>-1.434148</td>\n",
       "      <td>-0.021909</td>\n",
       "      <td>...</td>\n",
       "      <td>4.009181</td>\n",
       "      <td>1.274986</td>\n",
       "      <td>-0.857670</td>\n",
       "      <td>-2.109682</td>\n",
       "      <td>0.169338</td>\n",
       "      <td>-0.322888</td>\n",
       "      <td>0.777822</td>\n",
       "      <td>-0.552258</td>\n",
       "      <td>0.304777</td>\n",
       "      <td>2290.05</td>\n",
       "    </tr>\n",
       "    <tr>\n",
       "      <th>...</th>\n",
       "      <td>...</td>\n",
       "      <td>...</td>\n",
       "      <td>...</td>\n",
       "      <td>...</td>\n",
       "      <td>...</td>\n",
       "      <td>...</td>\n",
       "      <td>...</td>\n",
       "      <td>...</td>\n",
       "      <td>...</td>\n",
       "      <td>...</td>\n",
       "      <td>...</td>\n",
       "      <td>...</td>\n",
       "      <td>...</td>\n",
       "      <td>...</td>\n",
       "      <td>...</td>\n",
       "      <td>...</td>\n",
       "      <td>...</td>\n",
       "      <td>...</td>\n",
       "      <td>...</td>\n",
       "      <td>...</td>\n",
       "      <td>...</td>\n",
       "    </tr>\n",
       "    <tr>\n",
       "      <th>88290</th>\n",
       "      <td>-1.993953</td>\n",
       "      <td>1.734986</td>\n",
       "      <td>-1.108037</td>\n",
       "      <td>-2.671817</td>\n",
       "      <td>1.605319</td>\n",
       "      <td>3.041992</td>\n",
       "      <td>-0.417771</td>\n",
       "      <td>1.438007</td>\n",
       "      <td>0.945437</td>\n",
       "      <td>1.017181</td>\n",
       "      <td>...</td>\n",
       "      <td>0.775705</td>\n",
       "      <td>-0.303532</td>\n",
       "      <td>-0.708199</td>\n",
       "      <td>0.047110</td>\n",
       "      <td>1.008409</td>\n",
       "      <td>0.234363</td>\n",
       "      <td>0.768581</td>\n",
       "      <td>0.697625</td>\n",
       "      <td>0.354542</td>\n",
       "      <td>14.83</td>\n",
       "    </tr>\n",
       "    <tr>\n",
       "      <th>22346</th>\n",
       "      <td>-0.440396</td>\n",
       "      <td>1.062920</td>\n",
       "      <td>1.582218</td>\n",
       "      <td>-0.029761</td>\n",
       "      <td>0.040967</td>\n",
       "      <td>-0.903627</td>\n",
       "      <td>0.730326</td>\n",
       "      <td>-0.108175</td>\n",
       "      <td>-0.513163</td>\n",
       "      <td>-0.331574</td>\n",
       "      <td>...</td>\n",
       "      <td>0.158754</td>\n",
       "      <td>-0.215794</td>\n",
       "      <td>-0.532224</td>\n",
       "      <td>-0.024762</td>\n",
       "      <td>0.382581</td>\n",
       "      <td>-0.164620</td>\n",
       "      <td>0.068836</td>\n",
       "      <td>0.269144</td>\n",
       "      <td>0.123483</td>\n",
       "      <td>2.58</td>\n",
       "    </tr>\n",
       "    <tr>\n",
       "      <th>269968</th>\n",
       "      <td>0.827820</td>\n",
       "      <td>-2.649344</td>\n",
       "      <td>-3.161235</td>\n",
       "      <td>0.209209</td>\n",
       "      <td>-0.561331</td>\n",
       "      <td>-1.570386</td>\n",
       "      <td>1.612531</td>\n",
       "      <td>-0.930219</td>\n",
       "      <td>-1.318562</td>\n",
       "      <td>0.684327</td>\n",
       "      <td>...</td>\n",
       "      <td>0.892558</td>\n",
       "      <td>0.349915</td>\n",
       "      <td>0.002268</td>\n",
       "      <td>-0.746698</td>\n",
       "      <td>0.171847</td>\n",
       "      <td>0.247576</td>\n",
       "      <td>0.936557</td>\n",
       "      <td>-0.258164</td>\n",
       "      <td>0.037868</td>\n",
       "      <td>748.04</td>\n",
       "    </tr>\n",
       "    <tr>\n",
       "      <th>175960</th>\n",
       "      <td>-1.523903</td>\n",
       "      <td>-6.287060</td>\n",
       "      <td>-2.638246</td>\n",
       "      <td>1.330015</td>\n",
       "      <td>-1.672002</td>\n",
       "      <td>1.957509</td>\n",
       "      <td>1.359226</td>\n",
       "      <td>0.081727</td>\n",
       "      <td>0.753151</td>\n",
       "      <td>-0.702316</td>\n",
       "      <td>...</td>\n",
       "      <td>3.298835</td>\n",
       "      <td>1.329127</td>\n",
       "      <td>0.001210</td>\n",
       "      <td>-1.360187</td>\n",
       "      <td>-1.507703</td>\n",
       "      <td>-1.183927</td>\n",
       "      <td>0.578076</td>\n",
       "      <td>-0.328557</td>\n",
       "      <td>0.229935</td>\n",
       "      <td>1771.50</td>\n",
       "    </tr>\n",
       "    <tr>\n",
       "      <th>47973</th>\n",
       "      <td>-1.608560</td>\n",
       "      <td>0.132746</td>\n",
       "      <td>2.075995</td>\n",
       "      <td>-1.937332</td>\n",
       "      <td>-1.822305</td>\n",
       "      <td>-0.429669</td>\n",
       "      <td>0.247042</td>\n",
       "      <td>0.684452</td>\n",
       "      <td>1.177470</td>\n",
       "      <td>-2.063935</td>\n",
       "      <td>...</td>\n",
       "      <td>0.186211</td>\n",
       "      <td>0.465181</td>\n",
       "      <td>1.017280</td>\n",
       "      <td>0.173478</td>\n",
       "      <td>0.570107</td>\n",
       "      <td>0.504597</td>\n",
       "      <td>-0.659853</td>\n",
       "      <td>0.175060</td>\n",
       "      <td>0.092039</td>\n",
       "      <td>191.80</td>\n",
       "    </tr>\n",
       "  </tbody>\n",
       "</table>\n",
       "<p>199364 rows × 29 columns</p>\n",
       "</div>"
      ],
      "text/plain": [
       "              V1        V2        V3        V4        V5        V6        V7  \\\n",
       "211605 -8.367621  7.402969 -5.114191 -2.966792 -0.985904 -1.660018  0.397816   \n",
       "231628 -1.290662  0.764452 -0.169233 -1.688528  1.984718 -0.717210  1.667635   \n",
       "110643 -0.606860  0.233923  2.633361 -0.155762 -0.328850 -0.070593  0.173023   \n",
       "11478   1.374168 -0.330389  0.812971 -0.183112 -1.074771 -0.933788 -0.544238   \n",
       "243724 -2.146505 -7.603113 -4.928224  1.449173 -2.083871 -0.984759  3.629816   \n",
       "...          ...       ...       ...       ...       ...       ...       ...   \n",
       "88290  -1.993953  1.734986 -1.108037 -2.671817  1.605319  3.041992 -0.417771   \n",
       "22346  -0.440396  1.062920  1.582218 -0.029761  0.040967 -0.903627  0.730326   \n",
       "269968  0.827820 -2.649344 -3.161235  0.209209 -0.561331 -1.570386  1.612531   \n",
       "175960 -1.523903 -6.287060 -2.638246  1.330015 -1.672002  1.957509  1.359226   \n",
       "47973  -1.608560  0.132746  2.075995 -1.937332 -1.822305 -0.429669  0.247042   \n",
       "\n",
       "              V8        V9       V10  ...       V20       V21       V22  \\\n",
       "211605  1.008250  5.290976  9.315735  ...  3.589299 -0.557927  0.349087   \n",
       "231628 -0.228295 -0.959071 -0.679429  ...  0.057620  0.138615  0.390374   \n",
       "110643  0.113394  0.680147 -0.686651  ... -0.129287  0.007393  0.265045   \n",
       "11478  -0.348237  0.614925  0.080408  ...  0.078163 -0.134742  0.016793   \n",
       "243724 -1.302973 -1.434148 -0.021909  ...  4.009181  1.274986 -0.857670   \n",
       "...          ...       ...       ...  ...       ...       ...       ...   \n",
       "88290   1.438007  0.945437  1.017181  ...  0.775705 -0.303532 -0.708199   \n",
       "22346  -0.108175 -0.513163 -0.331574  ...  0.158754 -0.215794 -0.532224   \n",
       "269968 -0.930219 -1.318562  0.684327  ...  0.892558  0.349915  0.002268   \n",
       "175960  0.081727  0.753151 -0.702316  ...  3.298835  1.329127  0.001210   \n",
       "47973   0.684452  1.177470 -2.063935  ...  0.186211  0.465181  1.017280   \n",
       "\n",
       "             V23       V24       V25       V26       V27       V28   Amount  \n",
       "211605  0.301734  0.662330  1.145939 -0.012273  1.513736  0.669504     0.69  \n",
       "231628 -0.678774  0.292254  1.425865  0.265341  0.051405  0.103879    55.47  \n",
       "110643 -0.040615  0.406088 -0.498823  0.121851 -0.046840 -0.087259    11.50  \n",
       "11478   0.002610  0.714527  0.536175 -0.307487 -0.003555  0.013024    10.00  \n",
       "243724 -2.109682  0.169338 -0.322888  0.777822 -0.552258  0.304777  2290.05  \n",
       "...          ...       ...       ...       ...       ...       ...      ...  \n",
       "88290   0.047110  1.008409  0.234363  0.768581  0.697625  0.354542    14.83  \n",
       "22346  -0.024762  0.382581 -0.164620  0.068836  0.269144  0.123483     2.58  \n",
       "269968 -0.746698  0.171847  0.247576  0.936557 -0.258164  0.037868   748.04  \n",
       "175960 -1.360187 -1.507703 -1.183927  0.578076 -0.328557  0.229935  1771.50  \n",
       "47973   0.173478  0.570107  0.504597 -0.659853  0.175060  0.092039   191.80  \n",
       "\n",
       "[199364 rows x 29 columns]"
      ]
     },
     "execution_count": 23,
     "metadata": {},
     "output_type": "execute_result"
    }
   ],
   "source": [
    "X_train"
   ]
  },
  {
   "cell_type": "code",
   "execution_count": 24,
   "metadata": {},
   "outputs": [
    {
     "name": "stdout",
     "output_type": "stream",
     "text": [
      "roc_auc -0.984 params {'num_leaves': 350, 'colsample_bytree': '0.602', 'subsample': '0.903', 'max_depth': 12, 'reg_alpha': '0.045', 'reg_lambda': '0.080', 'min_child_weight': 59}\n",
      "roc_auc -0.985 params {'num_leaves': 30, 'colsample_bytree': '0.439', 'subsample': '0.439', 'max_depth': 14, 'reg_alpha': '0.022', 'reg_lambda': '0.080', 'min_child_weight': 90}\n",
      "roc_auc -0.985 params {'num_leaves': 80, 'colsample_bytree': '0.441', 'subsample': '0.829', 'max_depth': 6, 'reg_alpha': '0.053', 'reg_lambda': '0.087', 'min_child_weight': 98}\n",
      "roc_auc -0.983 params {'num_leaves': 290, 'colsample_bytree': '0.756', 'subsample': '0.580', 'max_depth': 14, 'reg_alpha': '0.074', 'reg_lambda': '0.070', 'min_child_weight': 82}\n",
      "roc_auc -0.984 params {'num_leaves': 180, 'colsample_bytree': '0.771', 'subsample': '0.878', 'max_depth': 10, 'reg_alpha': '0.056', 'reg_lambda': '0.040', 'min_child_weight': 8}\n",
      "roc_auc -0.982 params {'num_leaves': 290, 'colsample_bytree': '0.997', 'subsample': '0.728', 'max_depth': 12, 'reg_alpha': '0.082', 'reg_lambda': '0.020', 'min_child_weight': 81}\n",
      "roc_auc -0.983 params {'num_leaves': 450, 'colsample_bytree': '0.958', 'subsample': '0.717', 'max_depth': 14, 'reg_alpha': '0.055', 'reg_lambda': '0.092', 'min_child_weight': 37}\n",
      "roc_auc -0.984 params {'num_leaves': 490, 'colsample_bytree': '0.470', 'subsample': '0.304', 'max_depth': 12, 'reg_alpha': '0.053', 'reg_lambda': '0.095', 'min_child_weight': 37}\n",
      "roc_auc -0.982 params {'num_leaves': 480, 'colsample_bytree': '0.851', 'subsample': '0.664', 'max_depth': 12, 'reg_alpha': '0.056', 'reg_lambda': '0.095', 'min_child_weight': 87}\n",
      "roc_auc -0.983 params {'num_leaves': 390, 'colsample_bytree': '0.816', 'subsample': '0.799', 'max_depth': 8, 'reg_alpha': '0.056', 'reg_lambda': '0.028', 'min_child_weight': 41}\n",
      "100%|███████████████████████████████████████████████| 10/10 [02:36<00:00, 15.68s/trial, best loss: -0.9846339700936978]\n"
     ]
    }
   ],
   "source": [
    "import lightgbm as lgbm\n",
    "from hyperopt import hp, tpe\n",
    "from hyperopt.fmin import fmin\n",
    "from sklearn.model_selection import cross_val_score, StratifiedKFold\n",
    "def objective(params):\n",
    "    params = {\n",
    "        'num_leaves': int(params['num_leaves']),\n",
    "        'colsample_bytree': '{:.3f}'.format(params['colsample_bytree']),\n",
    "        'subsample': '{:.3f}'.format(params['subsample']),\n",
    "        'max_depth': int(params['max_depth']),\n",
    "        'reg_alpha': '{:.3f}'.format(params['reg_alpha']),\n",
    "        'reg_lambda': '{:.3f}'.format(params['reg_lambda']),\n",
    "        'min_child_weight': int(params['min_child_weight'])\n",
    "    }\n",
    "    weights = dict(y_train.value_counts()[0]/y_train.value_counts())\n",
    "    \n",
    "    clf = lgbm.LGBMClassifier(\n",
    "        n_estimators=1000,\n",
    "        learning_rate=0.01,\n",
    "        **params,\n",
    "        class_weight= weights\n",
    "    )\n",
    "    \n",
    "    score = -cross_val_score(clf, X_train, y_train, scoring='roc_auc', \n",
    "                             cv=StratifiedKFold(n_splits=5)).mean()\n",
    "    print(\"roc_auc {:.3f} params {}\".format(score, params))\n",
    "    return score\n",
    "\n",
    "space = {\n",
    "    'num_leaves': hp.quniform('num_leaves', 8,500, 10),\n",
    "    'colsample_bytree': hp.uniform('colsample_bytree', 0.3, 1.0),\n",
    "    'subsample': hp.uniform('subsample', 0.3, 1.0),\n",
    "    'max_depth': hp.quniform('max_depth', 5, 15, 2),\n",
    "    'reg_alpha':hp.uniform('reg_alpha', 0.01, 0.1),\n",
    "    'reg_lambda': hp.uniform('reg_lambda', 0.01, 0.1),\n",
    "    'min_child_weight': hp.quniform('min_child_weight', 1, 100,1)\n",
    "}\n",
    "\n",
    "best = fmin(fn=objective,space=space,algo=tpe.suggest,max_evals=10)"
   ]
  },
  {
   "cell_type": "code",
   "execution_count": 25,
   "metadata": {},
   "outputs": [
    {
     "data": {
      "text/plain": [
       "LGBMClassifier(class_weight={0: 1.0, 1: 578.546511627907},\n",
       "               colsample_bytree=0.4414807663835617, learning_rate=0.01,\n",
       "               max_depth=6, min_child_weight=98, n_estimators=1000,\n",
       "               num_leaves=80, reg_alpha=0.05327573576304593,\n",
       "               reg_lambda=0.08659161357803453, subsample=0.8287324253343913)"
      ]
     },
     "execution_count": 25,
     "metadata": {},
     "output_type": "execute_result"
    }
   ],
   "source": [
    "import lightgbm as lgb\n",
    "best =  {**best}\n",
    "best['max_depth'] = int(best['max_depth'])\n",
    "best['min_child_weight'] = int(best['min_child_weight'])\n",
    "best['num_leaves'] = int(best['num_leaves'])\n",
    "\n",
    "\n",
    "weights = dict(y_train.value_counts()[0]/\n",
    "                y_train.value_counts())\n",
    "\n",
    "lgb_model = lgb.LGBMClassifier(**best,\n",
    "                                 n_estimators=1000,\n",
    "                                 learning_rate=0.01,\n",
    "                                class_weight= weights)\n",
    "\n",
    "train_features = np.array(X_train)\n",
    "labels = np.array(y_train)\n",
    "\n",
    "lgb_model.fit(train_features,labels)"
   ]
  },
  {
   "cell_type": "code",
   "execution_count": 26,
   "metadata": {},
   "outputs": [
    {
     "name": "stdout",
     "output_type": "stream",
     "text": [
      "[[85237    58]\n",
      " [   23   125]]\n",
      "              precision    recall  f1-score   support\n",
      "\n",
      "           0       1.00      1.00      1.00     85295\n",
      "           1       0.68      0.84      0.76       148\n",
      "\n",
      "    accuracy                           1.00     85443\n",
      "   macro avg       0.84      0.92      0.88     85443\n",
      "weighted avg       1.00      1.00      1.00     85443\n",
      "\n"
     ]
    }
   ],
   "source": [
    "from sklearn.metrics import confusion_matrix\n",
    "y_pred1 = lgb_model.predict(X_test)\n",
    "y_test1 = np.array(y_test)\n",
    "print(confusion_matrix(y_test1, y_pred1))\n",
    "print(classification_report(y_test1, y_pred1))"
   ]
  },
  {
   "cell_type": "markdown",
   "metadata": {},
   "source": [
    "# Running  models after scaling the input variables"
   ]
  },
  {
   "cell_type": "markdown",
   "metadata": {},
   "source": [
    "### Logistic Regression"
   ]
  },
  {
   "cell_type": "code",
   "execution_count": 77,
   "metadata": {},
   "outputs": [],
   "source": [
    "y = df.iloc[:,-2]\n",
    "X = df.iloc[:, 1:-2]\n",
    "# Create the training and testing sets\n",
    "X_train, X_test, y_train, y_test = train_test_split(X, y, test_size=0.3, random_state=0, stratify= y)\n"
   ]
  },
  {
   "cell_type": "code",
   "execution_count": 78,
   "metadata": {},
   "outputs": [],
   "source": [
    "\n",
    "from sklearn_pandas import DataFrameMapper\n",
    "from sklearn.preprocessing import StandardScaler\n",
    "\n",
    "mapper = DataFrameMapper([(X_train.columns, StandardScaler())])\n",
    "scaled_features = mapper.fit_transform(X_train, y_train)\n",
    "df_std = pd.DataFrame(scaled_features, index=X_train.index, columns=X_train.columns)\n"
   ]
  },
  {
   "cell_type": "code",
   "execution_count": 79,
   "metadata": {},
   "outputs": [],
   "source": [
    "from sklearn.linear_model import LogisticRegression\n",
    "from sklearn.model_selection import train_test_split\n",
    "from sklearn import metrics\n",
    "from sklearn.metrics import classification_report, confusion_matrix, roc_auc_score\n",
    "\n",
    "\n",
    "# Fit a logistic regression model to our data\n",
    "model = LogisticRegression()\n",
    "model.fit(X_train, y_train)\n",
    "\n",
    "# Obtain model predictions\n",
    "predicted = model.predict(X_test)\n",
    "probs = model.predict_proba(X_test)"
   ]
  },
  {
   "cell_type": "code",
   "execution_count": 80,
   "metadata": {},
   "outputs": [
    {
     "name": "stdout",
     "output_type": "stream",
     "text": [
      "\n",
      "Classification Report:\n",
      "               precision    recall  f1-score   support\n",
      "\n",
      "           0       1.00      1.00      1.00     85295\n",
      "           1       0.88      0.62      0.73       148\n",
      "\n",
      "    accuracy                           1.00     85443\n",
      "   macro avg       0.94      0.81      0.86     85443\n",
      "weighted avg       1.00      1.00      1.00     85443\n",
      "\n",
      "\n",
      "Confusion matrix:\n",
      " [[85282    13]\n",
      " [   56    92]]\n"
     ]
    }
   ],
   "source": [
    "conf_mat = metrics.confusion_matrix(y_true=y_test, y_pred=predicted)\n",
    "print('\\nClassification Report:\\n', classification_report(y_test, predicted))\n",
    "print('\\nConfusion matrix:\\n', conf_mat)"
   ]
  },
  {
   "cell_type": "code",
   "execution_count": 81,
   "metadata": {},
   "outputs": [
    {
     "name": "stdout",
     "output_type": "stream",
     "text": [
      "\n",
      "Confusion Matrix in depth analysis: \n",
      "\n"
     ]
    },
    {
     "data": {
      "text/plain": [
       "<AxesSubplot:>"
      ]
     },
     "execution_count": 81,
     "metadata": {},
     "output_type": "execute_result"
    },
    {
     "data": {
      "image/png": "[encoded data removed]",
      "text/plain": [
       "<Figure size 576x432 with 2 Axes>"
      ]
     },
     "metadata": {
      "needs_background": "light"
     },
     "output_type": "display_data"
    }
   ],
   "source": [
    "group_names = [\"True Neg\", \"False Pos\", \"False Neg\", \"True Pos\"]\n",
    "group_counts = ['{0:0.0f}'.format(value) for value in\n",
    "                conf_mat.flatten()]\n",
    "group_percentages = ['{0:.2%}'.format(value) for value in\n",
    "                     conf_mat.flatten()/np.sum(conf_mat)]\n",
    "labels = [f'{v1}\\n{v2}\\n{v3}' for v1, v2, v3 in\n",
    "          zip(group_names,group_counts,group_percentages)]\n",
    "plt.figure(figsize=(8,6))\n",
    "labels = np.asarray(labels).reshape(2,2)\n",
    "print(\"\\nConfusion Matrix in depth analysis: \\n\")\n",
    "sns.heatmap(conf_mat, annot=labels, fmt='', cmap='Blues')"
   ]
  },
  {
   "cell_type": "markdown",
   "metadata": {},
   "source": [
    "**Machine learning with imporved balance using SMOTE**"
   ]
  },
  {
   "cell_type": "code",
   "execution_count": 82,
   "metadata": {},
   "outputs": [],
   "source": [
    "from imblearn.pipeline import Pipeline \n",
    "from imblearn.over_sampling import SMOTE\n",
    "\n",
    "resampling = SMOTE(random_state=42, sampling_strategy=0.6)\n",
    "model = LogisticRegression()\n",
    "\n",
    "pipeline = Pipeline([('SMOTE', resampling), ('Logistic Regression', model)])"
   ]
  },
  {
   "cell_type": "code",
   "execution_count": 83,
   "metadata": {},
   "outputs": [],
   "source": [
    "# X_train, X_test, y_train, y_test = train_test_split(X, y, test_size=0.3, random_state=0)\n",
    "pipeline.fit(X_train, y_train) \n",
    "predicted_lr_smote = model.predict(X_test)"
   ]
  },
  {
   "cell_type": "code",
   "execution_count": 84,
   "metadata": {},
   "outputs": [
    {
     "name": "stdout",
     "output_type": "stream",
     "text": [
      "\n",
      "Classification Report:\n",
      "               precision    recall  f1-score   support\n",
      "\n",
      "           0       1.00      0.99      1.00     85295\n",
      "           1       0.14      0.86      0.23       148\n",
      "\n",
      "    accuracy                           0.99     85443\n",
      "   macro avg       0.57      0.93      0.61     85443\n",
      "weighted avg       1.00      0.99      0.99     85443\n",
      "\n",
      "\n",
      "Confusion matrix:\n",
      " [[84475   820]\n",
      " [   20   128]]\n"
     ]
    }
   ],
   "source": [
    "conf_mat_lr_smote = metrics.confusion_matrix(y_true=y_test, y_pred=predicted_lr_smote)\n",
    "print('\\nClassification Report:\\n', classification_report(y_test, predicted_lr_smote))\n",
    "print('\\nConfusion matrix:\\n', conf_mat_lr_smote)"
   ]
  },
  {
   "cell_type": "code",
   "execution_count": 85,
   "metadata": {
    "scrolled": false
   },
   "outputs": [
    {
     "name": "stdout",
     "output_type": "stream",
     "text": [
      "\n",
      "Confusion Matrix in depth analysis for oversampled data: \n",
      "\n"
     ]
    },
    {
     "data": {
      "text/plain": [
       "<AxesSubplot:>"
      ]
     },
     "execution_count": 85,
     "metadata": {},
     "output_type": "execute_result"
    },
    {
     "data": {
      "image/png": "[encoded data removed]",
      "text/plain": [
       "<Figure size 576x432 with 2 Axes>"
      ]
     },
     "metadata": {
      "needs_background": "light"
     },
     "output_type": "display_data"
    }
   ],
   "source": [
    "group_names = [\"True Neg\", \"False Pos\", \"False Neg\", \"True Pos\"]\n",
    "group_counts = ['{0:0.0f}'.format(value) for value in\n",
    "                conf_mat_lr_smote.flatten()]\n",
    "group_percentages = ['{0:.2%}'.format(value) for value in\n",
    "                     conf_mat_lr_smote.flatten()/np.sum(conf_mat_lr_smote)]\n",
    "labels = [f'{v1}\\n{v2}\\n{v3}' for v1, v2, v3 in\n",
    "          zip(group_names,group_counts,group_percentages)]\n",
    "plt.figure(figsize=(8,6))\n",
    "labels = np.asarray(labels).reshape(2,2)\n",
    "print(\"\\nConfusion Matrix in depth analysis for oversampled data: \\n\")\n",
    "sns.heatmap(conf_mat_lr_smote, annot=labels, fmt='', cmap='Blues')"
   ]
  },
  {
   "cell_type": "markdown",
   "metadata": {},
   "source": [
    "### LightGBM"
   ]
  },
  {
   "cell_type": "code",
   "execution_count": 37,
   "metadata": {},
   "outputs": [
    {
     "data": {
      "text/html": [
       "<div>\n",
       "<style scoped>\n",
       "    .dataframe tbody tr th:only-of-type {\n",
       "        vertical-align: middle;\n",
       "    }\n",
       "\n",
       "    .dataframe tbody tr th {\n",
       "        vertical-align: top;\n",
       "    }\n",
       "\n",
       "    .dataframe thead th {\n",
       "        text-align: right;\n",
       "    }\n",
       "</style>\n",
       "<table border=\"1\" class=\"dataframe\">\n",
       "  <thead>\n",
       "    <tr style=\"text-align: right;\">\n",
       "      <th></th>\n",
       "      <th>V1</th>\n",
       "      <th>V2</th>\n",
       "      <th>V3</th>\n",
       "      <th>V4</th>\n",
       "      <th>V5</th>\n",
       "      <th>V6</th>\n",
       "      <th>V7</th>\n",
       "      <th>V8</th>\n",
       "      <th>V9</th>\n",
       "      <th>V10</th>\n",
       "      <th>...</th>\n",
       "      <th>V20</th>\n",
       "      <th>V21</th>\n",
       "      <th>V22</th>\n",
       "      <th>V23</th>\n",
       "      <th>V24</th>\n",
       "      <th>V25</th>\n",
       "      <th>V26</th>\n",
       "      <th>V27</th>\n",
       "      <th>V28</th>\n",
       "      <th>Amount</th>\n",
       "    </tr>\n",
       "  </thead>\n",
       "  <tbody>\n",
       "    <tr>\n",
       "      <th>211605</th>\n",
       "      <td>-8.367621</td>\n",
       "      <td>7.402969</td>\n",
       "      <td>-5.114191</td>\n",
       "      <td>-2.966792</td>\n",
       "      <td>-0.985904</td>\n",
       "      <td>-1.660018</td>\n",
       "      <td>0.397816</td>\n",
       "      <td>1.008250</td>\n",
       "      <td>5.290976</td>\n",
       "      <td>9.315735</td>\n",
       "      <td>...</td>\n",
       "      <td>3.589299</td>\n",
       "      <td>-0.557927</td>\n",
       "      <td>0.349087</td>\n",
       "      <td>0.301734</td>\n",
       "      <td>0.662330</td>\n",
       "      <td>1.145939</td>\n",
       "      <td>-0.012273</td>\n",
       "      <td>1.513736</td>\n",
       "      <td>0.669504</td>\n",
       "      <td>0.69</td>\n",
       "    </tr>\n",
       "    <tr>\n",
       "      <th>231628</th>\n",
       "      <td>-1.290662</td>\n",
       "      <td>0.764452</td>\n",
       "      <td>-0.169233</td>\n",
       "      <td>-1.688528</td>\n",
       "      <td>1.984718</td>\n",
       "      <td>-0.717210</td>\n",
       "      <td>1.667635</td>\n",
       "      <td>-0.228295</td>\n",
       "      <td>-0.959071</td>\n",
       "      <td>-0.679429</td>\n",
       "      <td>...</td>\n",
       "      <td>0.057620</td>\n",
       "      <td>0.138615</td>\n",
       "      <td>0.390374</td>\n",
       "      <td>-0.678774</td>\n",
       "      <td>0.292254</td>\n",
       "      <td>1.425865</td>\n",
       "      <td>0.265341</td>\n",
       "      <td>0.051405</td>\n",
       "      <td>0.103879</td>\n",
       "      <td>55.47</td>\n",
       "    </tr>\n",
       "    <tr>\n",
       "      <th>110643</th>\n",
       "      <td>-0.606860</td>\n",
       "      <td>0.233923</td>\n",
       "      <td>2.633361</td>\n",
       "      <td>-0.155762</td>\n",
       "      <td>-0.328850</td>\n",
       "      <td>-0.070593</td>\n",
       "      <td>0.173023</td>\n",
       "      <td>0.113394</td>\n",
       "      <td>0.680147</td>\n",
       "      <td>-0.686651</td>\n",
       "      <td>...</td>\n",
       "      <td>-0.129287</td>\n",
       "      <td>0.007393</td>\n",
       "      <td>0.265045</td>\n",
       "      <td>-0.040615</td>\n",
       "      <td>0.406088</td>\n",
       "      <td>-0.498823</td>\n",
       "      <td>0.121851</td>\n",
       "      <td>-0.046840</td>\n",
       "      <td>-0.087259</td>\n",
       "      <td>11.50</td>\n",
       "    </tr>\n",
       "    <tr>\n",
       "      <th>11478</th>\n",
       "      <td>1.374168</td>\n",
       "      <td>-0.330389</td>\n",
       "      <td>0.812971</td>\n",
       "      <td>-0.183112</td>\n",
       "      <td>-1.074771</td>\n",
       "      <td>-0.933788</td>\n",
       "      <td>-0.544238</td>\n",
       "      <td>-0.348237</td>\n",
       "      <td>0.614925</td>\n",
       "      <td>0.080408</td>\n",
       "      <td>...</td>\n",
       "      <td>0.078163</td>\n",
       "      <td>-0.134742</td>\n",
       "      <td>0.016793</td>\n",
       "      <td>0.002610</td>\n",
       "      <td>0.714527</td>\n",
       "      <td>0.536175</td>\n",
       "      <td>-0.307487</td>\n",
       "      <td>-0.003555</td>\n",
       "      <td>0.013024</td>\n",
       "      <td>10.00</td>\n",
       "    </tr>\n",
       "    <tr>\n",
       "      <th>243724</th>\n",
       "      <td>-2.146505</td>\n",
       "      <td>-7.603113</td>\n",
       "      <td>-4.928224</td>\n",
       "      <td>1.449173</td>\n",
       "      <td>-2.083871</td>\n",
       "      <td>-0.984759</td>\n",
       "      <td>3.629816</td>\n",
       "      <td>-1.302973</td>\n",
       "      <td>-1.434148</td>\n",
       "      <td>-0.021909</td>\n",
       "      <td>...</td>\n",
       "      <td>4.009181</td>\n",
       "      <td>1.274986</td>\n",
       "      <td>-0.857670</td>\n",
       "      <td>-2.109682</td>\n",
       "      <td>0.169338</td>\n",
       "      <td>-0.322888</td>\n",
       "      <td>0.777822</td>\n",
       "      <td>-0.552258</td>\n",
       "      <td>0.304777</td>\n",
       "      <td>2290.05</td>\n",
       "    </tr>\n",
       "  </tbody>\n",
       "</table>\n",
       "<p>5 rows × 29 columns</p>\n",
       "</div>"
      ],
      "text/plain": [
       "              V1        V2        V3        V4        V5        V6        V7  \\\n",
       "211605 -8.367621  7.402969 -5.114191 -2.966792 -0.985904 -1.660018  0.397816   \n",
       "231628 -1.290662  0.764452 -0.169233 -1.688528  1.984718 -0.717210  1.667635   \n",
       "110643 -0.606860  0.233923  2.633361 -0.155762 -0.328850 -0.070593  0.173023   \n",
       "11478   1.374168 -0.330389  0.812971 -0.183112 -1.074771 -0.933788 -0.544238   \n",
       "243724 -2.146505 -7.603113 -4.928224  1.449173 -2.083871 -0.984759  3.629816   \n",
       "\n",
       "              V8        V9       V10  ...       V20       V21       V22  \\\n",
       "211605  1.008250  5.290976  9.315735  ...  3.589299 -0.557927  0.349087   \n",
       "231628 -0.228295 -0.959071 -0.679429  ...  0.057620  0.138615  0.390374   \n",
       "110643  0.113394  0.680147 -0.686651  ... -0.129287  0.007393  0.265045   \n",
       "11478  -0.348237  0.614925  0.080408  ...  0.078163 -0.134742  0.016793   \n",
       "243724 -1.302973 -1.434148 -0.021909  ...  4.009181  1.274986 -0.857670   \n",
       "\n",
       "             V23       V24       V25       V26       V27       V28   Amount  \n",
       "211605  0.301734  0.662330  1.145939 -0.012273  1.513736  0.669504     0.69  \n",
       "231628 -0.678774  0.292254  1.425865  0.265341  0.051405  0.103879    55.47  \n",
       "110643 -0.040615  0.406088 -0.498823  0.121851 -0.046840 -0.087259    11.50  \n",
       "11478   0.002610  0.714527  0.536175 -0.307487 -0.003555  0.013024    10.00  \n",
       "243724 -2.109682  0.169338 -0.322888  0.777822 -0.552258  0.304777  2290.05  \n",
       "\n",
       "[5 rows x 29 columns]"
      ]
     },
     "execution_count": 37,
     "metadata": {},
     "output_type": "execute_result"
    }
   ],
   "source": [
    "X_train.head()"
   ]
  },
  {
   "cell_type": "code",
   "execution_count": 38,
   "metadata": {},
   "outputs": [
    {
     "name": "stdout",
     "output_type": "stream",
     "text": [
      "roc_auc -0.984 params {'num_leaves': 130, 'colsample_bytree': '0.568', 'subsample': '0.527', 'max_depth': 8, 'reg_alpha': '0.093', 'reg_lambda': '0.086', 'min_child_weight': 47}\n",
      "roc_auc -0.985 params {'num_leaves': 390, 'colsample_bytree': '0.511', 'subsample': '0.435', 'max_depth': 6, 'reg_alpha': '0.043', 'reg_lambda': '0.023', 'min_child_weight': 33}\n",
      "roc_auc -0.984 params {'num_leaves': 20, 'colsample_bytree': '0.361', 'subsample': '0.828', 'max_depth': 14, 'reg_alpha': '0.081', 'reg_lambda': '0.062', 'min_child_weight': 12}\n",
      "roc_auc -0.984 params {'num_leaves': 190, 'colsample_bytree': '0.693', 'subsample': '0.722', 'max_depth': 10, 'reg_alpha': '0.057', 'reg_lambda': '0.052', 'min_child_weight': 54}\n",
      "roc_auc -0.984 params {'num_leaves': 140, 'colsample_bytree': '0.439', 'subsample': '0.657', 'max_depth': 10, 'reg_alpha': '0.095', 'reg_lambda': '0.014', 'min_child_weight': 38}\n",
      "roc_auc -0.982 params {'num_leaves': 470, 'colsample_bytree': '0.843', 'subsample': '0.613', 'max_depth': 14, 'reg_alpha': '0.017', 'reg_lambda': '0.074', 'min_child_weight': 87}\n",
      "roc_auc -0.981 params {'num_leaves': 460, 'colsample_bytree': '0.967', 'subsample': '0.375', 'max_depth': 12, 'reg_alpha': '0.032', 'reg_lambda': '0.091', 'min_child_weight': 86}\n",
      "roc_auc -0.984 params {'num_leaves': 270, 'colsample_bytree': '0.767', 'subsample': '0.516', 'max_depth': 8, 'reg_alpha': '0.012', 'reg_lambda': '0.094', 'min_child_weight': 71}\n",
      "roc_auc -0.981 params {'num_leaves': 430, 'colsample_bytree': '0.947', 'subsample': '0.746', 'max_depth': 12, 'reg_alpha': '0.084', 'reg_lambda': '0.041', 'min_child_weight': 66}\n",
      "roc_auc -0.982 params {'num_leaves': 290, 'colsample_bytree': '0.860', 'subsample': '0.580', 'max_depth': 14, 'reg_alpha': '0.079', 'reg_lambda': '0.034', 'min_child_weight': 49}\n",
      "100%|███████████████████████████████████████████████| 10/10 [02:39<00:00, 15.95s/trial, best loss: -0.9845296728050995]\n"
     ]
    }
   ],
   "source": [
    "import lightgbm as lgbm\n",
    "from hyperopt import hp, tpe\n",
    "from hyperopt.fmin import fmin\n",
    "from sklearn.model_selection import cross_val_score, StratifiedKFold\n",
    "def objective(params):\n",
    "    params = {\n",
    "        'num_leaves': int(params['num_leaves']),\n",
    "        'colsample_bytree': '{:.3f}'.format(params['colsample_bytree']),\n",
    "        'subsample': '{:.3f}'.format(params['subsample']),\n",
    "        'max_depth': int(params['max_depth']),\n",
    "        'reg_alpha': '{:.3f}'.format(params['reg_alpha']),\n",
    "        'reg_lambda': '{:.3f}'.format(params['reg_lambda']),\n",
    "        'min_child_weight': int(params['min_child_weight'])\n",
    "    }\n",
    "    weights = dict(y_train.value_counts()[0]/y_train.value_counts())\n",
    "    \n",
    "    clf = lgbm.LGBMClassifier(\n",
    "        n_estimators=1000,\n",
    "        learning_rate=0.01,\n",
    "        **params,\n",
    "        class_weight= weights\n",
    "    )\n",
    "    \n",
    "    score = -cross_val_score(clf, X_train, y_train, scoring='roc_auc', \n",
    "                             cv=StratifiedKFold(n_splits=5)).mean()\n",
    "    print(\"roc_auc {:.3f} params {}\".format(score, params))\n",
    "    return score\n",
    "\n",
    "space = {\n",
    "    'num_leaves': hp.quniform('num_leaves', 8,500, 10),\n",
    "    'colsample_bytree': hp.uniform('colsample_bytree', 0.3, 1.0),\n",
    "    'subsample': hp.uniform('subsample', 0.3, 1.0),\n",
    "    'max_depth': hp.quniform('max_depth', 5, 15, 2),\n",
    "    'reg_alpha':hp.uniform('reg_alpha', 0.01, 0.1),\n",
    "    'reg_lambda': hp.uniform('reg_lambda', 0.01, 0.1),\n",
    "    'min_child_weight': hp.quniform('min_child_weight', 1, 100,1)\n",
    "}\n",
    "\n",
    "best = fmin(fn=objective,space=space,algo=tpe.suggest,max_evals=10)"
   ]
  },
  {
   "cell_type": "code",
   "execution_count": 39,
   "metadata": {},
   "outputs": [
    {
     "data": {
      "text/plain": [
       "LGBMClassifier(class_weight={0: 1.0, 1: 578.546511627907},\n",
       "               colsample_bytree=0.5110735020995197, learning_rate=0.01,\n",
       "               max_depth=6, min_child_weight=33, n_estimators=1000,\n",
       "               num_leaves=390, reg_alpha=0.04310726640457957,\n",
       "               reg_lambda=0.022851669709335325, subsample=0.4354872362452099)"
      ]
     },
     "execution_count": 39,
     "metadata": {},
     "output_type": "execute_result"
    }
   ],
   "source": [
    "import lightgbm as lgb\n",
    "best =  {**best}\n",
    "best['max_depth'] = int(best['max_depth'])\n",
    "best['min_child_weight'] = int(best['min_child_weight'])\n",
    "best['num_leaves'] = int(best['num_leaves'])\n",
    "\n",
    "\n",
    "weights = dict(y_train.value_counts()[0]/\n",
    "                y_train.value_counts())\n",
    "\n",
    "lgb_model = lgb.LGBMClassifier(**best,\n",
    "                                 n_estimators=1000,\n",
    "                                 learning_rate=0.01,\n",
    "                                class_weight= weights)\n",
    "\n",
    "train_features = np.array(X_train)\n",
    "labels = np.array(y_train)\n",
    "\n",
    "lgb_model.fit(train_features,labels)"
   ]
  },
  {
   "cell_type": "code",
   "execution_count": 40,
   "metadata": {},
   "outputs": [
    {
     "name": "stdout",
     "output_type": "stream",
     "text": [
      "[[85255    40]\n",
      " [   26   122]]\n",
      "              precision    recall  f1-score   support\n",
      "\n",
      "           0       1.00      1.00      1.00     85295\n",
      "           1       0.75      0.82      0.79       148\n",
      "\n",
      "    accuracy                           1.00     85443\n",
      "   macro avg       0.88      0.91      0.89     85443\n",
      "weighted avg       1.00      1.00      1.00     85443\n",
      "\n"
     ]
    }
   ],
   "source": [
    "from sklearn.metrics import confusion_matrix\n",
    "y_pred1 = lgb_model.predict(X_test)\n",
    "y_test1 = np.array(y_test)\n",
    "print(confusion_matrix(y_test1, y_pred1))\n",
    "print(classification_report(y_test1, y_pred1))"
   ]
  },
  {
   "cell_type": "code",
   "execution_count": null,
   "metadata": {},
   "outputs": [],
   "source": []
  },
  {
   "cell_type": "markdown",
   "metadata": {},
   "source": [
    "# Deep Learning model"
   ]
  },
  {
   "cell_type": "markdown",
   "metadata": {},
   "source": [
    "###  Keras model"
   ]
  },
  {
   "cell_type": "code",
   "execution_count": 41,
   "metadata": {},
   "outputs": [],
   "source": [
    "from numpy import loadtxt\n",
    "from keras.models import Sequential\n",
    "from keras.layers import Dense"
   ]
  },
  {
   "cell_type": "code",
   "execution_count": 42,
   "metadata": {},
   "outputs": [
    {
     "name": "stdout",
     "output_type": "stream",
     "text": [
      "Epoch 1/20\n",
      "1994/1994 [==============================] - 1s 533us/step - loss: 0.0155 - accuracy: 0.9991\n",
      "Epoch 2/20\n",
      "1994/1994 [==============================] - 1s 481us/step - loss: 0.0063 - accuracy: 0.9993\n",
      "Epoch 3/20\n",
      "1994/1994 [==============================] - 1s 482us/step - loss: 0.0042 - accuracy: 0.9994\n",
      "Epoch 4/20\n",
      "1994/1994 [==============================] - 1s 480us/step - loss: 0.0045 - accuracy: 0.9993\n",
      "Epoch 5/20\n",
      "1994/1994 [==============================] - 1s 483us/step - loss: 0.0040 - accuracy: 0.9994\n",
      "Epoch 6/20\n",
      "1994/1994 [==============================] - 1s 483us/step - loss: 0.0035 - accuracy: 0.9994\n",
      "Epoch 7/20\n",
      "1994/1994 [==============================] - 1s 483us/step - loss: 0.0036 - accuracy: 0.9994\n",
      "Epoch 8/20\n",
      "1994/1994 [==============================] - 1s 482us/step - loss: 0.0038 - accuracy: 0.9995\n",
      "Epoch 9/20\n",
      "1994/1994 [==============================] - 1s 484us/step - loss: 0.0029 - accuracy: 0.9995\n",
      "Epoch 10/20\n",
      "1994/1994 [==============================] - 1s 479us/step - loss: 0.0028 - accuracy: 0.9995\n",
      "Epoch 11/20\n",
      "1994/1994 [==============================] - 1s 484us/step - loss: 0.0029 - accuracy: 0.9995\n",
      "Epoch 12/20\n",
      "1994/1994 [==============================] - 1s 483us/step - loss: 0.0025 - accuracy: 0.9995\n",
      "Epoch 13/20\n",
      "1994/1994 [==============================] - 1s 481us/step - loss: 0.0027 - accuracy: 0.9996\n",
      "Epoch 14/20\n",
      "1994/1994 [==============================] - 1s 484us/step - loss: 0.0026 - accuracy: 0.9995\n",
      "Epoch 15/20\n",
      "1994/1994 [==============================] - 1s 484us/step - loss: 0.0026 - accuracy: 0.9996\n",
      "Epoch 16/20\n",
      "1994/1994 [==============================] - 1s 482us/step - loss: 0.0023 - accuracy: 0.9996\n",
      "Epoch 17/20\n",
      "1994/1994 [==============================] - 1s 481us/step - loss: 0.0029 - accuracy: 0.9996\n",
      "Epoch 18/20\n",
      "1994/1994 [==============================] - 1s 483us/step - loss: 0.0022 - accuracy: 0.9996\n",
      "Epoch 19/20\n",
      "1994/1994 [==============================] - 1s 482us/step - loss: 0.0022 - accuracy: 0.9996\n",
      "Epoch 20/20\n",
      "1994/1994 [==============================] - 1s 484us/step - loss: 0.0025 - accuracy: 0.9996\n"
     ]
    }
   ],
   "source": [
    "# define the keras model\n",
    "model = Sequential()\n",
    "model.add(Dense(30, input_dim=29, activation='relu'))\n",
    "model.add(Dense(18, activation='relu'))\n",
    "model.add(Dense(8, activation='relu'))\n",
    "model.add(Dense(1, activation='sigmoid'))\n",
    "# compile the keras model\n",
    "model.compile(loss='binary_crossentropy', optimizer='adam', metrics=['accuracy'])\n",
    "# fit the keras model on the dataset\n",
    "model.fit(X_train, y_train, epochs=20, batch_size=100, verbose=1)\n",
    "# make class predictions with the model\n",
    "predictions = (model.predict(X_test) > 0.5).astype(int)"
   ]
  },
  {
   "cell_type": "code",
   "execution_count": 43,
   "metadata": {},
   "outputs": [
    {
     "name": "stdout",
     "output_type": "stream",
     "text": [
      "Precision:  0.8931297709923665 \n",
      "Recall:  0.7905405405405406 \n",
      "F1:  0.838709677419355\n"
     ]
    }
   ],
   "source": [
    "temp_df = pd.DataFrame(predictions, columns =['pred'])\n",
    "\n",
    "temp_df['exp'] = y_test.to_list()\n",
    "\n",
    "tp = temp_df[(temp_df['pred']==1) & (temp_df['exp'] == 1)].shape[0]\n",
    "fp = temp_df[(temp_df['pred']==1) & (temp_df['exp'] == 0)].shape[0]\n",
    "tn = temp_df[(temp_df['pred']==0) & (temp_df['exp'] == 0)].shape[0]\n",
    "fn = temp_df[(temp_df['pred']==0) & (temp_df['exp'] == 1)].shape[0]\n",
    "\n",
    "prec = tp/(tp+fp)\n",
    "rec = tp/(tp+fn)\n",
    "f1 = 2*(prec*rec)/(prec+rec)\n",
    "\n",
    "print('Precision: ',prec ,'\\nRecall: ', rec,'\\nF1: ', f1)"
   ]
  },
  {
   "cell_type": "code",
   "execution_count": 44,
   "metadata": {},
   "outputs": [
    {
     "name": "stdout",
     "output_type": "stream",
     "text": [
      "\n",
      "Confusion Matrix in depth analysis: \n",
      "\n"
     ]
    },
    {
     "data": {
      "text/plain": [
       "<AxesSubplot:>"
      ]
     },
     "execution_count": 44,
     "metadata": {},
     "output_type": "execute_result"
    },
    {
     "data": {
      "image/png": "[encoded data removed]",
      "text/plain": [
       "<Figure size 576x432 with 2 Axes>"
      ]
     },
     "metadata": {
      "needs_background": "light"
     },
     "output_type": "display_data"
    }
   ],
   "source": [
    "group_names = [\"True Neg\", \"False Pos\", \"False Neg\", \"True Pos\"]\n",
    "group_counts = [tn,fp,fn,tp]\n",
    "group_percentages = ['{0:.2%}'.format(value) for value in\n",
    "                     group_counts/np.sum(group_counts)]\n",
    "labels = [f'{v1}\\n{v2}\\n{v3}' for v1, v2, v3 in\n",
    "          zip(group_names,group_counts,group_percentages)]\n",
    "plt.figure(figsize=(8,6))\n",
    "labels = np.asarray(labels).reshape(2,2)\n",
    "print(\"\\nConfusion Matrix in depth analysis: \\n\")\n",
    "sns.heatmap(conf_mat_lr_smote, annot=labels, fmt='', cmap='Blues')"
   ]
  },
  {
   "cell_type": "markdown",
   "metadata": {},
   "source": [
    "### Random Forest"
   ]
  },
  {
   "cell_type": "code",
   "execution_count": 90,
   "metadata": {},
   "outputs": [
    {
     "name": "stdout",
     "output_type": "stream",
     "text": [
      "roc_auc -0.969 params {'max_depth': 6, 'min_samples_leaf': 3, 'min_samples_split': 2}                                  \n",
      "roc_auc -0.975 params {'max_depth': 10, 'min_samples_leaf': 3, 'min_samples_split': 3}                                 \n",
      "roc_auc -0.958 params {'max_depth': 4, 'min_samples_leaf': 1, 'min_samples_split': 4}                                  \n",
      "roc_auc -0.962 params {'max_depth': 4, 'min_samples_leaf': 4, 'min_samples_split': 5}                                  \n",
      "roc_auc -0.971 params {'max_depth': 6, 'min_samples_leaf': 4, 'min_samples_split': 4}                                  \n",
      "100%|████████████████████████████████████████████████| 5/5 [13:48<00:00, 165.66s/trial, best loss: -0.9746913006725281]\n"
     ]
    }
   ],
   "source": [
    "\n",
    "from sklearn.ensemble import RandomForestClassifier\n",
    "def objective(params):\n",
    "    params = {\n",
    "        'max_depth': int(params['max_depth']),\n",
    "        'min_samples_leaf':int(params['min_samples_leaf']),\n",
    "        'min_samples_split':int(params['min_samples_split'])\n",
    "    }\n",
    "    weights = dict(y_train.value_counts()[0]/y_train.value_counts())\n",
    "    \n",
    "    clf = RandomForestClassifier(\n",
    "        n_estimators=100,\n",
    "        **params,\n",
    "    )\n",
    "    \n",
    "    score = -cross_val_score(clf, X_train, y_train, scoring='roc_auc', \n",
    "                             cv=StratifiedKFold(n_splits=5)).mean()\n",
    "    print(\"roc_auc {:.3f} params {}\".format(score, params))\n",
    "    return score\n",
    "\n",
    "space = {\n",
    "    'max_depth': hp.quniform('max_depth', 4, 10, 2),\n",
    "    'min_samples_leaf':hp.uniform('min_samples_leaf',1,5),\n",
    "     'min_samples_split':hp.uniform('min_samples_split',2,6)}\n",
    "\n",
    "\n",
    "best = fmin(fn=objective,space=space,algo=tpe.suggest,max_evals=5)\n"
   ]
  },
  {
   "cell_type": "code",
   "execution_count": 92,
   "metadata": {},
   "outputs": [
    {
     "data": {
      "text/plain": [
       "RandomForestClassifier(max_depth=10, max_features='sqrt', min_samples_leaf=3,\n",
       "                       min_samples_split=3)"
      ]
     },
     "execution_count": 92,
     "metadata": {},
     "output_type": "execute_result"
    }
   ],
   "source": [
    "best =  {**best}\n",
    "best['max_depth'] = int(best['max_depth'])\n",
    "best['min_samples_leaf'] = int(best['min_samples_leaf'])\n",
    "best['min_samples_split'] = int(best['min_samples_split'])\n",
    "\n",
    "\n",
    "\n",
    "rf_model = RandomForestClassifier(**best,\n",
    "                                  n_estimators=100,\n",
    "                                 bootstrap = True,\n",
    "                               max_features = 'sqrt')\n",
    "\n",
    "\n",
    "rf.fit(X_train, y_train)"
   ]
  },
  {
   "cell_type": "code",
   "execution_count": 93,
   "metadata": {},
   "outputs": [],
   "source": [
    "# Actual class predictions\n",
    "rf_predictions = rf.predict(X_test)"
   ]
  },
  {
   "cell_type": "code",
   "execution_count": 94,
   "metadata": {},
   "outputs": [
    {
     "name": "stdout",
     "output_type": "stream",
     "text": [
      "[[85288     7]\n",
      " [   46   102]]\n",
      "              precision    recall  f1-score   support\n",
      "\n",
      "           0       1.00      1.00      1.00     85295\n",
      "           1       0.94      0.69      0.79       148\n",
      "\n",
      "    accuracy                           1.00     85443\n",
      "   macro avg       0.97      0.84      0.90     85443\n",
      "weighted avg       1.00      1.00      1.00     85443\n",
      "\n"
     ]
    }
   ],
   "source": [
    "y_test1 = np.array(y_test)\n",
    "rf_predictions = rf_predictions.astype(int)\n",
    "print(confusion_matrix(y_test1, rf_predictions))\n",
    "print(classification_report(y_test1, rf_predictions))"
   ]
  },
  {
   "cell_type": "code",
   "execution_count": null,
   "metadata": {},
   "outputs": [],
   "source": []
  }
 ],
 "metadata": {
  "kernelspec": {
   "display_name": "Python 3 (ipykernel)",
   "language": "python",
   "name": "python3"
  },
  "language_info": {
   "codemirror_mode": {
    "name": "ipython",
    "version": 3
   },
   "file_extension": ".py",
   "mimetype": "text/x-python",
   "name": "python",
   "nbconvert_exporter": "python",
   "pygments_lexer": "ipython3",
   "version": "3.8.8"
  }
 },
 "nbformat": 4,
 "nbformat_minor": 4
}
